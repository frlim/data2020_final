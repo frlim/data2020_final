{
 "cells": [
  {
   "cell_type": "markdown",
   "metadata": {},
   "source": [
    "#### Libraries"
   ]
  },
  {
   "cell_type": "code",
   "execution_count": 1,
   "metadata": {},
   "outputs": [
    {
     "name": "stderr",
     "output_type": "stream",
     "text": [
      "\n",
      "Attaching package: ‘dplyr’\n",
      "\n",
      "The following objects are masked from ‘package:stats’:\n",
      "\n",
      "    filter, lag\n",
      "\n",
      "The following objects are masked from ‘package:base’:\n",
      "\n",
      "    intersect, setdiff, setequal, union\n",
      "\n",
      "Loading required package: zoo\n",
      "\n",
      "Attaching package: ‘zoo’\n",
      "\n",
      "The following objects are masked from ‘package:base’:\n",
      "\n",
      "    as.Date, as.Date.numeric\n",
      "\n",
      "Loading required package: carData\n",
      "\n",
      "Attaching package: ‘car’\n",
      "\n",
      "The following object is masked from ‘package:dplyr’:\n",
      "\n",
      "    recode\n",
      "\n"
     ]
    }
   ],
   "source": [
    "library(dplyr)\n",
    "library(lmtest)\n",
    "library(car)"
   ]
  },
  {
   "cell_type": "markdown",
   "metadata": {},
   "source": [
    "#### Data Loading and Merge"
   ]
  },
  {
   "cell_type": "code",
   "execution_count": 52,
   "metadata": {},
   "outputs": [],
   "source": [
    "killings <- read.csv(file = 'num_killed_state.csv')\n",
    "variables <- read.csv(file = 'sig_variables.csv')\n",
    "population <- read.csv(file = 'state_pop.csv')\n",
    "\n",
    "temp <- merge(killings, population, by=\"State\")\n",
    "data <- merge(variables, temp, by=\"State\")\n",
    "data$X.x <- NULL\n",
    "data$X.y <- NULL\n",
    "data$X <- NULL\n",
    "data$state_abbrev <- NULL\n",
    "data$X <- NULL\n",
    "data$latitude <- NULL\n",
    "data$longitude <- NULL\n",
    "data$county_bucket <- factor(data$county_bucket)\n",
    "data$nat_bucket <- factor(data$nat_bucket)\n",
    "data$was.shot <- ifelse(data$was.shot == \"Yes\", 1, 0)\n",
    "data <- tbl_df(data)\n",
    "o_data <- data"
   ]
  },
  {
   "cell_type": "code",
   "execution_count": 53,
   "metadata": {
    "scrolled": false
   },
   "outputs": [
    {
     "data": {
      "text/html": [
       "<table>\n",
       "<thead><tr><th scope=col>State</th><th scope=col>age</th><th scope=col>County</th><th scope=col>region</th><th scope=col>h_income</th><th scope=col>county_bucket</th><th scope=col>nat_bucket</th><th scope=col>urate</th><th scope=col>TotalPop</th><th scope=col>Black</th><th scope=col>⋯</th><th scope=col>Drive</th><th scope=col>Transit</th><th scope=col>PrivateWork</th><th scope=col>SelfEmployed</th><th scope=col>was.shot</th><th scope=col>is.black.binary</th><th scope=col>state.counts</th><th scope=col>black_pop</th><th scope=col>state_pop</th><th scope=col>perc.black</th></tr></thead>\n",
       "<tbody>\n",
       "\t<tr><td>Alabama   </td><td>55        </td><td>Baldwin   </td><td>South     </td><td>48173     </td><td>3         </td><td>3         </td><td>0.07307933</td><td>7455      </td><td>13.6      </td><td>⋯         </td><td>89.5      </td><td>0.0       </td><td>79.4      </td><td>2.4       </td><td>1         </td><td>0         </td><td>8         </td><td>1270051   </td><td>4830620   </td><td>26.29168  </td></tr>\n",
       "\t<tr><td>Alabama   </td><td>17        </td><td>Elmore    </td><td>South     </td><td>51367     </td><td>3         </td><td>3         </td><td>0.09768638</td><td>3845      </td><td>26.6      </td><td>⋯         </td><td>81.2      </td><td>0.0       </td><td>71.5      </td><td>6.5       </td><td>1         </td><td>1         </td><td>8         </td><td>1270051   </td><td>4830620   </td><td>26.29168  </td></tr>\n",
       "\t<tr><td>Alabama   </td><td>74        </td><td>Jefferson </td><td>South     </td><td>23977     </td><td>1         </td><td>1         </td><td>0.14504881</td><td>3795      </td><td>76.4      </td><td>⋯         </td><td>65.7      </td><td>1.4       </td><td>86.8      </td><td>2.3       </td><td>1         </td><td>1         </td><td>8         </td><td>1270051   </td><td>4830620   </td><td>26.29168  </td></tr>\n",
       "\t<tr><td>Alabama   </td><td>39        </td><td>Jefferson </td><td>South     </td><td>35780     </td><td>2         </td><td>2         </td><td>0.05291894</td><td>3441      </td><td>21.1      </td><td>⋯         </td><td>82.8      </td><td>2.0       </td><td>86.2      </td><td>2.7       </td><td>1         </td><td>1         </td><td>8         </td><td>1270051   </td><td>4830620   </td><td>26.29168  </td></tr>\n",
       "\t<tr><td>Alabama   </td><td>54        </td><td>Jefferson </td><td>South     </td><td>81996     </td><td>5         </td><td>5         </td><td>0.03591606</td><td>4976      </td><td> 0.2      </td><td>⋯         </td><td>85.3      </td><td>0.0       </td><td>71.5      </td><td>2.5       </td><td>1         </td><td>0         </td><td>8         </td><td>1270051   </td><td>4830620   </td><td>26.29168  </td></tr>\n",
       "\t<tr><td>Alabama   </td><td>40        </td><td>Lawrence  </td><td>South     </td><td>38078     </td><td>3         </td><td>2         </td><td>0.16827934</td><td>5677      </td><td> 2.2      </td><td>⋯         </td><td>90.5      </td><td>0.0       </td><td>77.6      </td><td>8.0       </td><td>1         </td><td>0         </td><td>8         </td><td>1270051   </td><td>4830620   </td><td>26.29168  </td></tr>\n",
       "</tbody>\n",
       "</table>\n"
      ],
      "text/latex": [
       "\\begin{tabular}{r|lllllllllllllllllllllllll}\n",
       " State & age & County & region & h\\_income & county\\_bucket & nat\\_bucket & urate & TotalPop & Black & ⋯ & Drive & Transit & PrivateWork & SelfEmployed & was.shot & is.black.binary & state.counts & black\\_pop & state\\_pop & perc.black\\\\\n",
       "\\hline\n",
       "\t Alabama    & 55         & Baldwin    & South      & 48173      & 3          & 3          & 0.07307933 & 7455       & 13.6       & ⋯          & 89.5       & 0.0        & 79.4       & 2.4        & 1          & 0          & 8          & 1270051    & 4830620    & 26.29168  \\\\\n",
       "\t Alabama    & 17         & Elmore     & South      & 51367      & 3          & 3          & 0.09768638 & 3845       & 26.6       & ⋯          & 81.2       & 0.0        & 71.5       & 6.5        & 1          & 1          & 8          & 1270051    & 4830620    & 26.29168  \\\\\n",
       "\t Alabama    & 74         & Jefferson  & South      & 23977      & 1          & 1          & 0.14504881 & 3795       & 76.4       & ⋯          & 65.7       & 1.4        & 86.8       & 2.3        & 1          & 1          & 8          & 1270051    & 4830620    & 26.29168  \\\\\n",
       "\t Alabama    & 39         & Jefferson  & South      & 35780      & 2          & 2          & 0.05291894 & 3441       & 21.1       & ⋯          & 82.8       & 2.0        & 86.2       & 2.7        & 1          & 1          & 8          & 1270051    & 4830620    & 26.29168  \\\\\n",
       "\t Alabama    & 54         & Jefferson  & South      & 81996      & 5          & 5          & 0.03591606 & 4976       &  0.2       & ⋯          & 85.3       & 0.0        & 71.5       & 2.5        & 1          & 0          & 8          & 1270051    & 4830620    & 26.29168  \\\\\n",
       "\t Alabama    & 40         & Lawrence   & South      & 38078      & 3          & 2          & 0.16827934 & 5677       &  2.2       & ⋯          & 90.5       & 0.0        & 77.6       & 8.0        & 1          & 0          & 8          & 1270051    & 4830620    & 26.29168  \\\\\n",
       "\\end{tabular}\n"
      ],
      "text/markdown": [
       "\n",
       "| State | age | County | region | h_income | county_bucket | nat_bucket | urate | TotalPop | Black | ⋯ | Drive | Transit | PrivateWork | SelfEmployed | was.shot | is.black.binary | state.counts | black_pop | state_pop | perc.black |\n",
       "|---|---|---|---|---|---|---|---|---|---|---|---|---|---|---|---|---|---|---|---|---|\n",
       "| Alabama    | 55         | Baldwin    | South      | 48173      | 3          | 3          | 0.07307933 | 7455       | 13.6       | ⋯          | 89.5       | 0.0        | 79.4       | 2.4        | 1          | 0          | 8          | 1270051    | 4830620    | 26.29168   |\n",
       "| Alabama    | 17         | Elmore     | South      | 51367      | 3          | 3          | 0.09768638 | 3845       | 26.6       | ⋯          | 81.2       | 0.0        | 71.5       | 6.5        | 1          | 1          | 8          | 1270051    | 4830620    | 26.29168   |\n",
       "| Alabama    | 74         | Jefferson  | South      | 23977      | 1          | 1          | 0.14504881 | 3795       | 76.4       | ⋯          | 65.7       | 1.4        | 86.8       | 2.3        | 1          | 1          | 8          | 1270051    | 4830620    | 26.29168   |\n",
       "| Alabama    | 39         | Jefferson  | South      | 35780      | 2          | 2          | 0.05291894 | 3441       | 21.1       | ⋯          | 82.8       | 2.0        | 86.2       | 2.7        | 1          | 1          | 8          | 1270051    | 4830620    | 26.29168   |\n",
       "| Alabama    | 54         | Jefferson  | South      | 81996      | 5          | 5          | 0.03591606 | 4976       |  0.2       | ⋯          | 85.3       | 0.0        | 71.5       | 2.5        | 1          | 0          | 8          | 1270051    | 4830620    | 26.29168   |\n",
       "| Alabama    | 40         | Lawrence   | South      | 38078      | 3          | 2          | 0.16827934 | 5677       |  2.2       | ⋯          | 90.5       | 0.0        | 77.6       | 8.0        | 1          | 0          | 8          | 1270051    | 4830620    | 26.29168   |\n",
       "\n"
      ],
      "text/plain": [
       "  State   age County    region h_income county_bucket nat_bucket urate     \n",
       "1 Alabama 55  Baldwin   South  48173    3             3          0.07307933\n",
       "2 Alabama 17  Elmore    South  51367    3             3          0.09768638\n",
       "3 Alabama 74  Jefferson South  23977    1             1          0.14504881\n",
       "4 Alabama 39  Jefferson South  35780    2             2          0.05291894\n",
       "5 Alabama 54  Jefferson South  81996    5             5          0.03591606\n",
       "6 Alabama 40  Lawrence  South  38078    3             2          0.16827934\n",
       "  TotalPop Black ⋯ Drive Transit PrivateWork SelfEmployed was.shot\n",
       "1 7455     13.6  ⋯ 89.5  0.0     79.4        2.4          1       \n",
       "2 3845     26.6  ⋯ 81.2  0.0     71.5        6.5          1       \n",
       "3 3795     76.4  ⋯ 65.7  1.4     86.8        2.3          1       \n",
       "4 3441     21.1  ⋯ 82.8  2.0     86.2        2.7          1       \n",
       "5 4976      0.2  ⋯ 85.3  0.0     71.5        2.5          1       \n",
       "6 5677      2.2  ⋯ 90.5  0.0     77.6        8.0          1       \n",
       "  is.black.binary state.counts black_pop state_pop perc.black\n",
       "1 0               8            1270051   4830620   26.29168  \n",
       "2 1               8            1270051   4830620   26.29168  \n",
       "3 1               8            1270051   4830620   26.29168  \n",
       "4 1               8            1270051   4830620   26.29168  \n",
       "5 0               8            1270051   4830620   26.29168  \n",
       "6 0               8            1270051   4830620   26.29168  "
      ]
     },
     "metadata": {},
     "output_type": "display_data"
    }
   ],
   "source": [
    "head(data)"
   ]
  },
  {
   "cell_type": "markdown",
   "metadata": {},
   "source": [
    "#### Correcting Linear Dependency"
   ]
  },
  {
   "cell_type": "code",
   "execution_count": 54,
   "metadata": {},
   "outputs": [],
   "source": [
    "data <- data %>% \n",
    "    select(-one_of(\"nonblack_perc\", \"black_pop\"))"
   ]
  },
  {
   "cell_type": "code",
   "execution_count": 55,
   "metadata": {},
   "outputs": [
    {
     "data": {
      "text/html": [
       "<dl class=dl-horizontal>\n",
       "\t<dt>State</dt>\n",
       "\t\t<dd>'factor'</dd>\n",
       "\t<dt>age</dt>\n",
       "\t\t<dd>'integer'</dd>\n",
       "\t<dt>County</dt>\n",
       "\t\t<dd>'factor'</dd>\n",
       "\t<dt>region</dt>\n",
       "\t\t<dd>'factor'</dd>\n",
       "\t<dt>h_income</dt>\n",
       "\t\t<dd>'integer'</dd>\n",
       "\t<dt>county_bucket</dt>\n",
       "\t\t<dd>'factor'</dd>\n",
       "\t<dt>nat_bucket</dt>\n",
       "\t\t<dd>'factor'</dd>\n",
       "\t<dt>urate</dt>\n",
       "\t\t<dd>'numeric'</dd>\n",
       "\t<dt>TotalPop</dt>\n",
       "\t\t<dd>'integer'</dd>\n",
       "\t<dt>Black</dt>\n",
       "\t\t<dd>'numeric'</dd>\n",
       "\t<dt>Poverty</dt>\n",
       "\t\t<dd>'numeric'</dd>\n",
       "\t<dt>ChildPoverty</dt>\n",
       "\t\t<dd>'numeric'</dd>\n",
       "\t<dt>Service</dt>\n",
       "\t\t<dd>'numeric'</dd>\n",
       "\t<dt>Construction</dt>\n",
       "\t\t<dd>'numeric'</dd>\n",
       "\t<dt>Drive</dt>\n",
       "\t\t<dd>'numeric'</dd>\n",
       "\t<dt>Transit</dt>\n",
       "\t\t<dd>'numeric'</dd>\n",
       "\t<dt>PrivateWork</dt>\n",
       "\t\t<dd>'numeric'</dd>\n",
       "\t<dt>SelfEmployed</dt>\n",
       "\t\t<dd>'numeric'</dd>\n",
       "\t<dt>was.shot</dt>\n",
       "\t\t<dd>'numeric'</dd>\n",
       "\t<dt>is.black.binary</dt>\n",
       "\t\t<dd>'integer'</dd>\n",
       "\t<dt>state.counts</dt>\n",
       "\t\t<dd>'integer'</dd>\n",
       "\t<dt>state_pop</dt>\n",
       "\t\t<dd>'integer'</dd>\n",
       "\t<dt>perc.black</dt>\n",
       "\t\t<dd>'numeric'</dd>\n",
       "</dl>\n"
      ],
      "text/latex": [
       "\\begin{description*}\n",
       "\\item[State] 'factor'\n",
       "\\item[age] 'integer'\n",
       "\\item[County] 'factor'\n",
       "\\item[region] 'factor'\n",
       "\\item[h\\textbackslash{}\\_income] 'integer'\n",
       "\\item[county\\textbackslash{}\\_bucket] 'factor'\n",
       "\\item[nat\\textbackslash{}\\_bucket] 'factor'\n",
       "\\item[urate] 'numeric'\n",
       "\\item[TotalPop] 'integer'\n",
       "\\item[Black] 'numeric'\n",
       "\\item[Poverty] 'numeric'\n",
       "\\item[ChildPoverty] 'numeric'\n",
       "\\item[Service] 'numeric'\n",
       "\\item[Construction] 'numeric'\n",
       "\\item[Drive] 'numeric'\n",
       "\\item[Transit] 'numeric'\n",
       "\\item[PrivateWork] 'numeric'\n",
       "\\item[SelfEmployed] 'numeric'\n",
       "\\item[was.shot] 'numeric'\n",
       "\\item[is.black.binary] 'integer'\n",
       "\\item[state.counts] 'integer'\n",
       "\\item[state\\textbackslash{}\\_pop] 'integer'\n",
       "\\item[perc.black] 'numeric'\n",
       "\\end{description*}\n"
      ],
      "text/markdown": [
       "State\n",
       ":   'factor'age\n",
       ":   'integer'County\n",
       ":   'factor'region\n",
       ":   'factor'h_income\n",
       ":   'integer'county_bucket\n",
       ":   'factor'nat_bucket\n",
       ":   'factor'urate\n",
       ":   'numeric'TotalPop\n",
       ":   'integer'Black\n",
       ":   'numeric'Poverty\n",
       ":   'numeric'ChildPoverty\n",
       ":   'numeric'Service\n",
       ":   'numeric'Construction\n",
       ":   'numeric'Drive\n",
       ":   'numeric'Transit\n",
       ":   'numeric'PrivateWork\n",
       ":   'numeric'SelfEmployed\n",
       ":   'numeric'was.shot\n",
       ":   'numeric'is.black.binary\n",
       ":   'integer'state.counts\n",
       ":   'integer'state_pop\n",
       ":   'integer'perc.black\n",
       ":   'numeric'\n",
       "\n"
      ],
      "text/plain": [
       "          State             age          County          region        h_income \n",
       "       \"factor\"       \"integer\"        \"factor\"        \"factor\"       \"integer\" \n",
       "  county_bucket      nat_bucket           urate        TotalPop           Black \n",
       "       \"factor\"        \"factor\"       \"numeric\"       \"integer\"       \"numeric\" \n",
       "        Poverty    ChildPoverty         Service    Construction           Drive \n",
       "      \"numeric\"       \"numeric\"       \"numeric\"       \"numeric\"       \"numeric\" \n",
       "        Transit     PrivateWork    SelfEmployed        was.shot is.black.binary \n",
       "      \"numeric\"       \"numeric\"       \"numeric\"       \"numeric\"       \"integer\" \n",
       "   state.counts       state_pop      perc.black \n",
       "      \"integer\"       \"integer\"       \"numeric\" "
      ]
     },
     "metadata": {},
     "output_type": "display_data"
    }
   ],
   "source": [
    "sapply(data,class)"
   ]
  },
  {
   "cell_type": "code",
   "execution_count": 56,
   "metadata": {},
   "outputs": [
    {
     "data": {
      "text/html": [
       "<table>\n",
       "<thead><tr><th scope=col>State</th><th scope=col>age</th><th scope=col>h_income</th><th scope=col>urate</th><th scope=col>TotalPop</th><th scope=col>Black</th><th scope=col>Poverty</th><th scope=col>ChildPoverty</th><th scope=col>Service</th><th scope=col>Construction</th><th scope=col>Drive</th><th scope=col>Transit</th><th scope=col>PrivateWork</th><th scope=col>SelfEmployed</th><th scope=col>was.shot</th><th scope=col>is.black.binary</th><th scope=col>state.counts</th><th scope=col>state_pop</th><th scope=col>perc.black</th></tr></thead>\n",
       "<tbody>\n",
       "\t<tr><td>Alabama   </td><td>45.37500  </td><td>46750.00  </td><td>0.08934377</td><td>5013.375  </td><td>22.037500 </td><td>18.16250  </td><td>23.50000  </td><td>21.02500  </td><td> 9.82500  </td><td>83.35000  </td><td>0.662500  </td><td>77.20000  </td><td>5.050000  </td><td>1.0000000 </td><td>0.5000000 </td><td> 8        </td><td> 4830620  </td><td>26.291679 </td></tr>\n",
       "\t<tr><td>Alaska    </td><td>34.00000  </td><td>46356.50  </td><td>0.11290692</td><td>4363.000  </td><td>13.400000 </td><td>21.60000  </td><td>36.00000  </td><td>25.60000  </td><td> 8.05000  </td><td>63.75000  </td><td>2.550000  </td><td>72.30000  </td><td>7.650000  </td><td>0.5000000 </td><td>0.0000000 </td><td> 2        </td><td>  733375  </td><td> 3.237458 </td></tr>\n",
       "\t<tr><td>Arizona   </td><td>36.16000  </td><td>43081.68  </td><td>0.12203292</td><td>4447.080  </td><td> 3.584000 </td><td>23.05200  </td><td>29.38000  </td><td>23.79200  </td><td>12.34000  </td><td>74.13200  </td><td>3.544000  </td><td>76.33200  </td><td>5.880000  </td><td>1.0000000 </td><td>0.0400000 </td><td>25        </td><td> 6641928  </td><td> 3.976038 </td></tr>\n",
       "\t<tr><td>Arkansas  </td><td>43.50000  </td><td>38595.50  </td><td>0.08996564</td><td>3573.000  </td><td>26.925000 </td><td>21.42500  </td><td>31.82500  </td><td>16.85000  </td><td>10.52500  </td><td>85.47500  </td><td>0.325000  </td><td>80.35000  </td><td>4.375000  </td><td>1.0000000 </td><td>0.2500000 </td><td> 4        </td><td> 2958208  </td><td>15.439997 </td></tr>\n",
       "\t<tr><td>California</td><td>36.27027  </td><td>54808.27  </td><td>0.12644515</td><td>5073.351  </td><td> 6.051351 </td><td>21.22432  </td><td>27.51351  </td><td>21.48108  </td><td>12.14054  </td><td>68.04189  </td><td>7.044595  </td><td>80.38108  </td><td>7.497297  </td><td>0.9189189 </td><td>0.1891892 </td><td>74        </td><td>38421464  </td><td> 5.623900 </td></tr>\n",
       "\t<tr><td>Colorado  </td><td>36.50000  </td><td>50118.33  </td><td>0.10240263</td><td>4261.833  </td><td> 6.791667 </td><td>18.55833  </td><td>21.60833  </td><td>21.33333  </td><td>13.16667  </td><td>72.10833  </td><td>4.116667  </td><td>77.21667  </td><td>7.050000  </td><td>1.0000000 </td><td>0.3333333 </td><td>12        </td><td> 5278906  </td><td> 3.849205 </td></tr>\n",
       "</tbody>\n",
       "</table>\n"
      ],
      "text/latex": [
       "\\begin{tabular}{r|lllllllllllllllllll}\n",
       " State & age & h\\_income & urate & TotalPop & Black & Poverty & ChildPoverty & Service & Construction & Drive & Transit & PrivateWork & SelfEmployed & was.shot & is.black.binary & state.counts & state\\_pop & perc.black\\\\\n",
       "\\hline\n",
       "\t Alabama    & 45.37500   & 46750.00   & 0.08934377 & 5013.375   & 22.037500  & 18.16250   & 23.50000   & 21.02500   &  9.82500   & 83.35000   & 0.662500   & 77.20000   & 5.050000   & 1.0000000  & 0.5000000  &  8         &  4830620   & 26.291679 \\\\\n",
       "\t Alaska     & 34.00000   & 46356.50   & 0.11290692 & 4363.000   & 13.400000  & 21.60000   & 36.00000   & 25.60000   &  8.05000   & 63.75000   & 2.550000   & 72.30000   & 7.650000   & 0.5000000  & 0.0000000  &  2         &   733375   &  3.237458 \\\\\n",
       "\t Arizona    & 36.16000   & 43081.68   & 0.12203292 & 4447.080   &  3.584000  & 23.05200   & 29.38000   & 23.79200   & 12.34000   & 74.13200   & 3.544000   & 76.33200   & 5.880000   & 1.0000000  & 0.0400000  & 25         &  6641928   &  3.976038 \\\\\n",
       "\t Arkansas   & 43.50000   & 38595.50   & 0.08996564 & 3573.000   & 26.925000  & 21.42500   & 31.82500   & 16.85000   & 10.52500   & 85.47500   & 0.325000   & 80.35000   & 4.375000   & 1.0000000  & 0.2500000  &  4         &  2958208   & 15.439997 \\\\\n",
       "\t California & 36.27027   & 54808.27   & 0.12644515 & 5073.351   &  6.051351  & 21.22432   & 27.51351   & 21.48108   & 12.14054   & 68.04189   & 7.044595   & 80.38108   & 7.497297   & 0.9189189  & 0.1891892  & 74         & 38421464   &  5.623900 \\\\\n",
       "\t Colorado   & 36.50000   & 50118.33   & 0.10240263 & 4261.833   &  6.791667  & 18.55833   & 21.60833   & 21.33333   & 13.16667   & 72.10833   & 4.116667   & 77.21667   & 7.050000   & 1.0000000  & 0.3333333  & 12         &  5278906   &  3.849205 \\\\\n",
       "\\end{tabular}\n"
      ],
      "text/markdown": [
       "\n",
       "| State | age | h_income | urate | TotalPop | Black | Poverty | ChildPoverty | Service | Construction | Drive | Transit | PrivateWork | SelfEmployed | was.shot | is.black.binary | state.counts | state_pop | perc.black |\n",
       "|---|---|---|---|---|---|---|---|---|---|---|---|---|---|---|---|---|---|---|\n",
       "| Alabama    | 45.37500   | 46750.00   | 0.08934377 | 5013.375   | 22.037500  | 18.16250   | 23.50000   | 21.02500   |  9.82500   | 83.35000   | 0.662500   | 77.20000   | 5.050000   | 1.0000000  | 0.5000000  |  8         |  4830620   | 26.291679  |\n",
       "| Alaska     | 34.00000   | 46356.50   | 0.11290692 | 4363.000   | 13.400000  | 21.60000   | 36.00000   | 25.60000   |  8.05000   | 63.75000   | 2.550000   | 72.30000   | 7.650000   | 0.5000000  | 0.0000000  |  2         |   733375   |  3.237458  |\n",
       "| Arizona    | 36.16000   | 43081.68   | 0.12203292 | 4447.080   |  3.584000  | 23.05200   | 29.38000   | 23.79200   | 12.34000   | 74.13200   | 3.544000   | 76.33200   | 5.880000   | 1.0000000  | 0.0400000  | 25         |  6641928   |  3.976038  |\n",
       "| Arkansas   | 43.50000   | 38595.50   | 0.08996564 | 3573.000   | 26.925000  | 21.42500   | 31.82500   | 16.85000   | 10.52500   | 85.47500   | 0.325000   | 80.35000   | 4.375000   | 1.0000000  | 0.2500000  |  4         |  2958208   | 15.439997  |\n",
       "| California | 36.27027   | 54808.27   | 0.12644515 | 5073.351   |  6.051351  | 21.22432   | 27.51351   | 21.48108   | 12.14054   | 68.04189   | 7.044595   | 80.38108   | 7.497297   | 0.9189189  | 0.1891892  | 74         | 38421464   |  5.623900  |\n",
       "| Colorado   | 36.50000   | 50118.33   | 0.10240263 | 4261.833   |  6.791667  | 18.55833   | 21.60833   | 21.33333   | 13.16667   | 72.10833   | 4.116667   | 77.21667   | 7.050000   | 1.0000000  | 0.3333333  | 12         |  5278906   |  3.849205  |\n",
       "\n"
      ],
      "text/plain": [
       "  State      age      h_income urate      TotalPop Black     Poverty \n",
       "1 Alabama    45.37500 46750.00 0.08934377 5013.375 22.037500 18.16250\n",
       "2 Alaska     34.00000 46356.50 0.11290692 4363.000 13.400000 21.60000\n",
       "3 Arizona    36.16000 43081.68 0.12203292 4447.080  3.584000 23.05200\n",
       "4 Arkansas   43.50000 38595.50 0.08996564 3573.000 26.925000 21.42500\n",
       "5 California 36.27027 54808.27 0.12644515 5073.351  6.051351 21.22432\n",
       "6 Colorado   36.50000 50118.33 0.10240263 4261.833  6.791667 18.55833\n",
       "  ChildPoverty Service  Construction Drive    Transit  PrivateWork SelfEmployed\n",
       "1 23.50000     21.02500  9.82500     83.35000 0.662500 77.20000    5.050000    \n",
       "2 36.00000     25.60000  8.05000     63.75000 2.550000 72.30000    7.650000    \n",
       "3 29.38000     23.79200 12.34000     74.13200 3.544000 76.33200    5.880000    \n",
       "4 31.82500     16.85000 10.52500     85.47500 0.325000 80.35000    4.375000    \n",
       "5 27.51351     21.48108 12.14054     68.04189 7.044595 80.38108    7.497297    \n",
       "6 21.60833     21.33333 13.16667     72.10833 4.116667 77.21667    7.050000    \n",
       "  was.shot  is.black.binary state.counts state_pop perc.black\n",
       "1 1.0000000 0.5000000        8            4830620  26.291679 \n",
       "2 0.5000000 0.0000000        2             733375   3.237458 \n",
       "3 1.0000000 0.0400000       25            6641928   3.976038 \n",
       "4 1.0000000 0.2500000        4            2958208  15.439997 \n",
       "5 0.9189189 0.1891892       74           38421464   5.623900 \n",
       "6 1.0000000 0.3333333       12            5278906   3.849205 "
      ]
     },
     "metadata": {},
     "output_type": "display_data"
    }
   ],
   "source": [
    "state_df <- tbl_df(data)\n",
    "state_df <- state_df %>% \n",
    "    select(-c(County, region)) %>%\n",
    "    group_by(State) %>%\n",
    "    summarise_if(is.numeric, mean, na.rm = TRUE)\n",
    "head(state_df)"
   ]
  },
  {
   "cell_type": "code",
   "execution_count": 57,
   "metadata": {},
   "outputs": [
    {
     "data": {
      "text/html": [
       "<ol class=list-inline>\n",
       "\t<li>47</li>\n",
       "\t<li>19</li>\n",
       "</ol>\n"
      ],
      "text/latex": [
       "\\begin{enumerate*}\n",
       "\\item 47\n",
       "\\item 19\n",
       "\\end{enumerate*}\n"
      ],
      "text/markdown": [
       "1. 47\n",
       "2. 19\n",
       "\n",
       "\n"
      ],
      "text/plain": [
       "[1] 47 19"
      ]
     },
     "metadata": {},
     "output_type": "display_data"
    }
   ],
   "source": [
    "dim(state_df)"
   ]
  },
  {
   "cell_type": "markdown",
   "metadata": {},
   "source": [
    "### Aggregate continuous variables from full ACS"
   ]
  },
  {
   "cell_type": "code",
   "execution_count": 58,
   "metadata": {},
   "outputs": [],
   "source": [
    "full.acs <- read.csv(\"acs2015_census_tract_data.csv\")"
   ]
  },
  {
   "cell_type": "code",
   "execution_count": 59,
   "metadata": {},
   "outputs": [
    {
     "data": {
      "text/html": [
       "<table>\n",
       "<thead><tr><th scope=col>CensusTract</th><th scope=col>State</th><th scope=col>County</th><th scope=col>TotalPop</th><th scope=col>Men</th><th scope=col>Women</th><th scope=col>Hispanic</th><th scope=col>White</th><th scope=col>Black</th><th scope=col>Native</th><th scope=col>⋯</th><th scope=col>Walk</th><th scope=col>OtherTransp</th><th scope=col>WorkAtHome</th><th scope=col>MeanCommute</th><th scope=col>Employed</th><th scope=col>PrivateWork</th><th scope=col>PublicWork</th><th scope=col>SelfEmployed</th><th scope=col>FamilyWork</th><th scope=col>Unemployment</th></tr></thead>\n",
       "<tbody>\n",
       "\t<tr><td>1001020100</td><td>Alabama   </td><td>Autauga   </td><td> 1948     </td><td> 940      </td><td>1008      </td><td> 0.9      </td><td>87.4      </td><td> 7.7      </td><td>0.3       </td><td>⋯         </td><td>0.5       </td><td>2.3       </td><td>2.1       </td><td>25.0      </td><td> 943      </td><td>77.1      </td><td>18.3      </td><td> 4.6      </td><td>0         </td><td> 5.4      </td></tr>\n",
       "\t<tr><td>1001020200</td><td>Alabama   </td><td>Autauga   </td><td> 2156     </td><td>1059      </td><td>1097      </td><td> 0.8      </td><td>40.4      </td><td>53.3      </td><td>0.0       </td><td>⋯         </td><td>0.0       </td><td>0.7       </td><td>0.0       </td><td>23.4      </td><td> 753      </td><td>77.0      </td><td>16.9      </td><td> 6.1      </td><td>0         </td><td>13.3      </td></tr>\n",
       "\t<tr><td>1001020300</td><td>Alabama   </td><td>Autauga   </td><td> 2968     </td><td>1364      </td><td>1604      </td><td> 0.0      </td><td>74.5      </td><td>18.6      </td><td>0.5       </td><td>⋯         </td><td>0.0       </td><td>0.0       </td><td>2.5       </td><td>19.6      </td><td>1373      </td><td>64.1      </td><td>23.6      </td><td>12.3      </td><td>0         </td><td> 6.2      </td></tr>\n",
       "\t<tr><td>1001020400</td><td>Alabama   </td><td>Autauga   </td><td> 4423     </td><td>2172      </td><td>2251      </td><td>10.5      </td><td>82.8      </td><td> 3.7      </td><td>1.6       </td><td>⋯         </td><td>0.0       </td><td>2.6       </td><td>1.6       </td><td>25.3      </td><td>1782      </td><td>75.7      </td><td>21.2      </td><td> 3.1      </td><td>0         </td><td>10.8      </td></tr>\n",
       "\t<tr><td>1001020500</td><td>Alabama   </td><td>Autauga   </td><td>10763     </td><td>4922      </td><td>5841      </td><td> 0.7      </td><td>68.5      </td><td>24.8      </td><td>0.0       </td><td>⋯         </td><td>0.0       </td><td>0.6       </td><td>0.9       </td><td>24.8      </td><td>5037      </td><td>67.1      </td><td>27.6      </td><td> 5.3      </td><td>0         </td><td> 4.2      </td></tr>\n",
       "\t<tr><td>1001020600</td><td>Alabama   </td><td>Autauga   </td><td> 3851     </td><td>1787      </td><td>2064      </td><td>13.1      </td><td>72.9      </td><td>11.9      </td><td>0.0       </td><td>⋯         </td><td>0.0       </td><td>6.0       </td><td>4.5       </td><td>19.8      </td><td>1560      </td><td>79.4      </td><td>14.7      </td><td> 5.8      </td><td>0         </td><td>10.9      </td></tr>\n",
       "</tbody>\n",
       "</table>\n"
      ],
      "text/latex": [
       "\\begin{tabular}{r|lllllllllllllllllllllllllllllllllllll}\n",
       " CensusTract & State & County & TotalPop & Men & Women & Hispanic & White & Black & Native & ⋯ & Walk & OtherTransp & WorkAtHome & MeanCommute & Employed & PrivateWork & PublicWork & SelfEmployed & FamilyWork & Unemployment\\\\\n",
       "\\hline\n",
       "\t 1001020100 & Alabama    & Autauga    &  1948      &  940       & 1008       &  0.9       & 87.4       &  7.7       & 0.3        & ⋯          & 0.5        & 2.3        & 2.1        & 25.0       &  943       & 77.1       & 18.3       &  4.6       & 0          &  5.4      \\\\\n",
       "\t 1001020200 & Alabama    & Autauga    &  2156      & 1059       & 1097       &  0.8       & 40.4       & 53.3       & 0.0        & ⋯          & 0.0        & 0.7        & 0.0        & 23.4       &  753       & 77.0       & 16.9       &  6.1       & 0          & 13.3      \\\\\n",
       "\t 1001020300 & Alabama    & Autauga    &  2968      & 1364       & 1604       &  0.0       & 74.5       & 18.6       & 0.5        & ⋯          & 0.0        & 0.0        & 2.5        & 19.6       & 1373       & 64.1       & 23.6       & 12.3       & 0          &  6.2      \\\\\n",
       "\t 1001020400 & Alabama    & Autauga    &  4423      & 2172       & 2251       & 10.5       & 82.8       &  3.7       & 1.6        & ⋯          & 0.0        & 2.6        & 1.6        & 25.3       & 1782       & 75.7       & 21.2       &  3.1       & 0          & 10.8      \\\\\n",
       "\t 1001020500 & Alabama    & Autauga    & 10763      & 4922       & 5841       &  0.7       & 68.5       & 24.8       & 0.0        & ⋯          & 0.0        & 0.6        & 0.9        & 24.8       & 5037       & 67.1       & 27.6       &  5.3       & 0          &  4.2      \\\\\n",
       "\t 1001020600 & Alabama    & Autauga    &  3851      & 1787       & 2064       & 13.1       & 72.9       & 11.9       & 0.0        & ⋯          & 0.0        & 6.0        & 4.5        & 19.8       & 1560       & 79.4       & 14.7       &  5.8       & 0          & 10.9      \\\\\n",
       "\\end{tabular}\n"
      ],
      "text/markdown": [
       "\n",
       "| CensusTract | State | County | TotalPop | Men | Women | Hispanic | White | Black | Native | ⋯ | Walk | OtherTransp | WorkAtHome | MeanCommute | Employed | PrivateWork | PublicWork | SelfEmployed | FamilyWork | Unemployment |\n",
       "|---|---|---|---|---|---|---|---|---|---|---|---|---|---|---|---|---|---|---|---|---|\n",
       "| 1001020100 | Alabama    | Autauga    |  1948      |  940       | 1008       |  0.9       | 87.4       |  7.7       | 0.3        | ⋯          | 0.5        | 2.3        | 2.1        | 25.0       |  943       | 77.1       | 18.3       |  4.6       | 0          |  5.4       |\n",
       "| 1001020200 | Alabama    | Autauga    |  2156      | 1059       | 1097       |  0.8       | 40.4       | 53.3       | 0.0        | ⋯          | 0.0        | 0.7        | 0.0        | 23.4       |  753       | 77.0       | 16.9       |  6.1       | 0          | 13.3       |\n",
       "| 1001020300 | Alabama    | Autauga    |  2968      | 1364       | 1604       |  0.0       | 74.5       | 18.6       | 0.5        | ⋯          | 0.0        | 0.0        | 2.5        | 19.6       | 1373       | 64.1       | 23.6       | 12.3       | 0          |  6.2       |\n",
       "| 1001020400 | Alabama    | Autauga    |  4423      | 2172       | 2251       | 10.5       | 82.8       |  3.7       | 1.6        | ⋯          | 0.0        | 2.6        | 1.6        | 25.3       | 1782       | 75.7       | 21.2       |  3.1       | 0          | 10.8       |\n",
       "| 1001020500 | Alabama    | Autauga    | 10763      | 4922       | 5841       |  0.7       | 68.5       | 24.8       | 0.0        | ⋯          | 0.0        | 0.6        | 0.9        | 24.8       | 5037       | 67.1       | 27.6       |  5.3       | 0          |  4.2       |\n",
       "| 1001020600 | Alabama    | Autauga    |  3851      | 1787       | 2064       | 13.1       | 72.9       | 11.9       | 0.0        | ⋯          | 0.0        | 6.0        | 4.5        | 19.8       | 1560       | 79.4       | 14.7       |  5.8       | 0          | 10.9       |\n",
       "\n"
      ],
      "text/plain": [
       "  CensusTract State   County  TotalPop Men  Women Hispanic White Black Native ⋯\n",
       "1 1001020100  Alabama Autauga  1948     940 1008   0.9     87.4   7.7  0.3    ⋯\n",
       "2 1001020200  Alabama Autauga  2156    1059 1097   0.8     40.4  53.3  0.0    ⋯\n",
       "3 1001020300  Alabama Autauga  2968    1364 1604   0.0     74.5  18.6  0.5    ⋯\n",
       "4 1001020400  Alabama Autauga  4423    2172 2251  10.5     82.8   3.7  1.6    ⋯\n",
       "5 1001020500  Alabama Autauga 10763    4922 5841   0.7     68.5  24.8  0.0    ⋯\n",
       "6 1001020600  Alabama Autauga  3851    1787 2064  13.1     72.9  11.9  0.0    ⋯\n",
       "  Walk OtherTransp WorkAtHome MeanCommute Employed PrivateWork PublicWork\n",
       "1 0.5  2.3         2.1        25.0         943     77.1        18.3      \n",
       "2 0.0  0.7         0.0        23.4         753     77.0        16.9      \n",
       "3 0.0  0.0         2.5        19.6        1373     64.1        23.6      \n",
       "4 0.0  2.6         1.6        25.3        1782     75.7        21.2      \n",
       "5 0.0  0.6         0.9        24.8        5037     67.1        27.6      \n",
       "6 0.0  6.0         4.5        19.8        1560     79.4        14.7      \n",
       "  SelfEmployed FamilyWork Unemployment\n",
       "1  4.6         0           5.4        \n",
       "2  6.1         0          13.3        \n",
       "3 12.3         0           6.2        \n",
       "4  3.1         0          10.8        \n",
       "5  5.3         0           4.2        \n",
       "6  5.8         0          10.9        "
      ]
     },
     "metadata": {},
     "output_type": "display_data"
    }
   ],
   "source": [
    "head(full.acs)"
   ]
  },
  {
   "cell_type": "code",
   "execution_count": 60,
   "metadata": {},
   "outputs": [],
   "source": [
    "# Add number number of poor, child poor, service, construction, drive, transit, private, self employed, \n",
    "# and unemployed\n",
    "full.acs <- full.acs %>%\n",
    "    mutate(num_poverty = Poverty * TotalPop * 0.01) %>%\n",
    "    mutate(num_child_poverty = ChildPoverty * TotalPop * 0.01) %>%\n",
    "    mutate(num_service = Service * TotalPop * 0.01) %>%\n",
    "    mutate(num_construction = Construction * TotalPop * 0.01) %>%\n",
    "    mutate(num_drive = Drive * TotalPop * 0.01) %>%\n",
    "    mutate(num_transit = Transit * TotalPop * 0.01) %>%\n",
    "    mutate(num_private = PrivateWork * TotalPop * 0.01) %>%\n",
    "    mutate(num_self_employed = SelfEmployed * TotalPop * 0.01) %>%\n",
    "    mutate(num_unemployed = Unemployment * TotalPop * 0.01)"
   ]
  },
  {
   "cell_type": "code",
   "execution_count": 61,
   "metadata": {},
   "outputs": [],
   "source": [
    "# Only select continuous variables we want and state\n",
    "state_vars <- full.acs %>%\n",
    "    select(c(State, num_poverty, num_child_poverty, num_service, num_construction, num_drive, num_transit,\n",
    "            num_private, num_self_employed, num_unemployed)) %>%\n",
    "    group_by(State) %>%\n",
    "    summarize_all(funs(sum), na.rm = TRUE)"
   ]
  },
  {
   "cell_type": "code",
   "execution_count": 62,
   "metadata": {},
   "outputs": [],
   "source": [
    "# Merge state_vars with population\n",
    "merged_var_pop <- left_join(state_vars, population, by='State')"
   ]
  },
  {
   "cell_type": "code",
   "execution_count": 63,
   "metadata": {},
   "outputs": [],
   "source": [
    "# Create state-level percentages\n",
    "merged_var_pop <- merged_var_pop %>%\n",
    "    mutate()"
   ]
  },
  {
   "cell_type": "code",
   "execution_count": 64,
   "metadata": {},
   "outputs": [
    {
     "name": "stderr",
     "output_type": "stream",
     "text": [
      "Warning message:\n",
      "“Column `State` joining factors with different levels, coercing to character vector”"
     ]
    }
   ],
   "source": [
    "# Merge\n",
    "new_state_df <- state_df %>%\n",
    "    select(c(State, age, was.shot, is.black.binary, state.counts, state_pop, perc.black))\n",
    "merged_df <- left_join(new_state_df, state_vars, by='State')"
   ]
  },
  {
   "cell_type": "code",
   "execution_count": 65,
   "metadata": {},
   "outputs": [
    {
     "data": {
      "text/html": [
       "<table>\n",
       "<thead><tr><th scope=col>State</th><th scope=col>age</th><th scope=col>was.shot</th><th scope=col>is.black.binary</th><th scope=col>state.counts</th><th scope=col>state_pop</th><th scope=col>perc.black</th><th scope=col>num_poverty</th><th scope=col>num_child_poverty</th><th scope=col>num_service</th><th scope=col>num_construction</th><th scope=col>num_drive</th><th scope=col>num_transit</th><th scope=col>num_private</th><th scope=col>num_self_employed</th><th scope=col>num_unemployed</th></tr></thead>\n",
       "<tbody>\n",
       "\t<tr><td>Alabama   </td><td>45.37500  </td><td>1.0000000 </td><td>0.5000000 </td><td> 8        </td><td> 4830620  </td><td>26.291679 </td><td> 919744.22</td><td>1301940.51</td><td> 833125.0 </td><td> 488663.73</td><td> 4109044.8</td><td>  23371.98</td><td> 3776445.9</td><td> 254272.51</td><td> 467458.83</td></tr>\n",
       "\t<tr><td>Alaska    </td><td>34.00000  </td><td>0.5000000 </td><td>0.0000000 </td><td> 2        </td><td>  733375  </td><td> 3.237458 </td><td>  74725.44</td><td>  98918.77</td><td> 130710.9 </td><td>  93220.63</td><td>  488217.1</td><td>  11706.61</td><td>  490752.1</td><td>  45623.46</td><td>  63286.55</td></tr>\n",
       "\t<tr><td>Arizona   </td><td>36.16000  </td><td>1.0000000 </td><td>0.0400000 </td><td>25        </td><td> 6641928  </td><td> 3.976038 </td><td>1222867.36</td><td>1602398.78</td><td>1362564.2 </td><td> 647676.43</td><td> 5050143.2</td><td> 136399.82</td><td> 5205311.6</td><td> 403437.75</td><td> 619755.99</td></tr>\n",
       "\t<tr><td>Arkansas  </td><td>43.50000  </td><td>1.0000000 </td><td>0.2500000 </td><td> 4        </td><td> 2958208  </td><td>15.439997 </td><td> 576526.28</td><td> 802528.03</td><td> 517308.6 </td><td> 323823.88</td><td> 2433445.6</td><td>  13740.96</td><td> 2276173.7</td><td> 188636.71</td><td> 234620.97</td></tr>\n",
       "\t<tr><td>California</td><td>36.27027  </td><td>0.9189189 </td><td>0.1891892 </td><td>74        </td><td>38421464  </td><td> 5.623900 </td><td>6272614.15</td><td>7873067.87</td><td>7358486.3 </td><td>3755424.88</td><td>28208342.3</td><td>1897598.36</td><td>29731239.5</td><td>3147127.28</td><td>3898336.96</td></tr>\n",
       "\t<tr><td>Colorado  </td><td>36.50000  </td><td>1.0000000 </td><td>0.3333333 </td><td>12        </td><td> 5278906  </td><td> 3.849205 </td><td> 676553.48</td><td> 866195.55</td><td> 938692.9 </td><td> 511916.69</td><td> 3976199.1</td><td> 163197.78</td><td> 4167491.3</td><td> 336822.69</td><td> 374119.54</td></tr>\n",
       "</tbody>\n",
       "</table>\n"
      ],
      "text/latex": [
       "\\begin{tabular}{r|llllllllllllllll}\n",
       " State & age & was.shot & is.black.binary & state.counts & state\\_pop & perc.black & num\\_poverty & num\\_child\\_poverty & num\\_service & num\\_construction & num\\_drive & num\\_transit & num\\_private & num\\_self\\_employed & num\\_unemployed\\\\\n",
       "\\hline\n",
       "\t Alabama    & 45.37500   & 1.0000000  & 0.5000000  &  8         &  4830620   & 26.291679  &  919744.22 & 1301940.51 &  833125.0  &  488663.73 &  4109044.8 &   23371.98 &  3776445.9 &  254272.51 &  467458.83\\\\\n",
       "\t Alaska     & 34.00000   & 0.5000000  & 0.0000000  &  2         &   733375   &  3.237458  &   74725.44 &   98918.77 &  130710.9  &   93220.63 &   488217.1 &   11706.61 &   490752.1 &   45623.46 &   63286.55\\\\\n",
       "\t Arizona    & 36.16000   & 1.0000000  & 0.0400000  & 25         &  6641928   &  3.976038  & 1222867.36 & 1602398.78 & 1362564.2  &  647676.43 &  5050143.2 &  136399.82 &  5205311.6 &  403437.75 &  619755.99\\\\\n",
       "\t Arkansas   & 43.50000   & 1.0000000  & 0.2500000  &  4         &  2958208   & 15.439997  &  576526.28 &  802528.03 &  517308.6  &  323823.88 &  2433445.6 &   13740.96 &  2276173.7 &  188636.71 &  234620.97\\\\\n",
       "\t California & 36.27027   & 0.9189189  & 0.1891892  & 74         & 38421464   &  5.623900  & 6272614.15 & 7873067.87 & 7358486.3  & 3755424.88 & 28208342.3 & 1897598.36 & 29731239.5 & 3147127.28 & 3898336.96\\\\\n",
       "\t Colorado   & 36.50000   & 1.0000000  & 0.3333333  & 12         &  5278906   &  3.849205  &  676553.48 &  866195.55 &  938692.9  &  511916.69 &  3976199.1 &  163197.78 &  4167491.3 &  336822.69 &  374119.54\\\\\n",
       "\\end{tabular}\n"
      ],
      "text/markdown": [
       "\n",
       "| State | age | was.shot | is.black.binary | state.counts | state_pop | perc.black | num_poverty | num_child_poverty | num_service | num_construction | num_drive | num_transit | num_private | num_self_employed | num_unemployed |\n",
       "|---|---|---|---|---|---|---|---|---|---|---|---|---|---|---|---|\n",
       "| Alabama    | 45.37500   | 1.0000000  | 0.5000000  |  8         |  4830620   | 26.291679  |  919744.22 | 1301940.51 |  833125.0  |  488663.73 |  4109044.8 |   23371.98 |  3776445.9 |  254272.51 |  467458.83 |\n",
       "| Alaska     | 34.00000   | 0.5000000  | 0.0000000  |  2         |   733375   |  3.237458  |   74725.44 |   98918.77 |  130710.9  |   93220.63 |   488217.1 |   11706.61 |   490752.1 |   45623.46 |   63286.55 |\n",
       "| Arizona    | 36.16000   | 1.0000000  | 0.0400000  | 25         |  6641928   |  3.976038  | 1222867.36 | 1602398.78 | 1362564.2  |  647676.43 |  5050143.2 |  136399.82 |  5205311.6 |  403437.75 |  619755.99 |\n",
       "| Arkansas   | 43.50000   | 1.0000000  | 0.2500000  |  4         |  2958208   | 15.439997  |  576526.28 |  802528.03 |  517308.6  |  323823.88 |  2433445.6 |   13740.96 |  2276173.7 |  188636.71 |  234620.97 |\n",
       "| California | 36.27027   | 0.9189189  | 0.1891892  | 74         | 38421464   |  5.623900  | 6272614.15 | 7873067.87 | 7358486.3  | 3755424.88 | 28208342.3 | 1897598.36 | 29731239.5 | 3147127.28 | 3898336.96 |\n",
       "| Colorado   | 36.50000   | 1.0000000  | 0.3333333  | 12         |  5278906   |  3.849205  |  676553.48 |  866195.55 |  938692.9  |  511916.69 |  3976199.1 |  163197.78 |  4167491.3 |  336822.69 |  374119.54 |\n",
       "\n"
      ],
      "text/plain": [
       "  State      age      was.shot  is.black.binary state.counts state_pop\n",
       "1 Alabama    45.37500 1.0000000 0.5000000        8            4830620 \n",
       "2 Alaska     34.00000 0.5000000 0.0000000        2             733375 \n",
       "3 Arizona    36.16000 1.0000000 0.0400000       25            6641928 \n",
       "4 Arkansas   43.50000 1.0000000 0.2500000        4            2958208 \n",
       "5 California 36.27027 0.9189189 0.1891892       74           38421464 \n",
       "6 Colorado   36.50000 1.0000000 0.3333333       12            5278906 \n",
       "  perc.black num_poverty num_child_poverty num_service num_construction\n",
       "1 26.291679   919744.22  1301940.51         833125.0    488663.73      \n",
       "2  3.237458    74725.44    98918.77         130710.9     93220.63      \n",
       "3  3.976038  1222867.36  1602398.78        1362564.2    647676.43      \n",
       "4 15.439997   576526.28   802528.03         517308.6    323823.88      \n",
       "5  5.623900  6272614.15  7873067.87        7358486.3   3755424.88      \n",
       "6  3.849205   676553.48   866195.55         938692.9    511916.69      \n",
       "  num_drive  num_transit num_private num_self_employed num_unemployed\n",
       "1  4109044.8   23371.98   3776445.9   254272.51         467458.83    \n",
       "2   488217.1   11706.61    490752.1    45623.46          63286.55    \n",
       "3  5050143.2  136399.82   5205311.6   403437.75         619755.99    \n",
       "4  2433445.6   13740.96   2276173.7   188636.71         234620.97    \n",
       "5 28208342.3 1897598.36  29731239.5  3147127.28        3898336.96    \n",
       "6  3976199.1  163197.78   4167491.3   336822.69         374119.54    "
      ]
     },
     "metadata": {},
     "output_type": "display_data"
    }
   ],
   "source": [
    "head(merged_df)"
   ]
  },
  {
   "cell_type": "code",
   "execution_count": 66,
   "metadata": {},
   "outputs": [],
   "source": [
    "# Create new state-level percentages\n",
    "merged_df <- merged_df %>%\n",
    "    mutate(Poverty = (num_poverty/state_pop) * 100) %>%\n",
    "    mutate(ChildPoverty = (num_child_poverty/state_pop) * 100) %>%\n",
    "    mutate(Service = (num_service/state_pop) * 100) %>%\n",
    "    mutate(Construction = (num_construction/state_pop) * 100) %>%\n",
    "    mutate(Drive = (num_drive/state_pop) * 100) %>%\n",
    "    mutate(Transit = (num_transit/state_pop) * 100) %>%\n",
    "    mutate(Private = (num_private/state_pop) * 100) %>%\n",
    "    mutate(SelfEmployment = (num_self_employed/state_pop) * 100) %>%\n",
    "    mutate(Unemployment = (num_unemployed/state_pop) * 100)"
   ]
  },
  {
   "cell_type": "code",
   "execution_count": 71,
   "metadata": {},
   "outputs": [],
   "source": [
    "# Remove non percentage columns\n",
    "merged_df <- merged_df %>%\n",
    "    select(-c(num_poverty, num_child_poverty, num_service, num_construction, num_drive, num_transit,\n",
    "             num_private, num_self_employed, num_unemployed))"
   ]
  },
  {
   "cell_type": "code",
   "execution_count": 80,
   "metadata": {},
   "outputs": [],
   "source": [
    "# Get Income for each state\n",
    "acs_income <- full.acs %>%\n",
    "    group_by(State) %>%\n",
    "    summarize(state_income = mean(Income, na.rm = TRUE))"
   ]
  },
  {
   "cell_type": "code",
   "execution_count": 81,
   "metadata": {},
   "outputs": [
    {
     "name": "stderr",
     "output_type": "stream",
     "text": [
      "Warning message:\n",
      "“Column `State` joining character vector and factor, coercing into character vector”"
     ]
    }
   ],
   "source": [
    "# Merge merged_df and acs_income\n",
    "new_merged_df <- left_join(merged_df, acs_income, by='State')"
   ]
  },
  {
   "cell_type": "code",
   "execution_count": 82,
   "metadata": {},
   "outputs": [
    {
     "data": {
      "text/html": [
       "<table>\n",
       "<thead><tr><th scope=col>State</th><th scope=col>age</th><th scope=col>was.shot</th><th scope=col>is.black.binary</th><th scope=col>state.counts</th><th scope=col>state_pop</th><th scope=col>perc.black</th><th scope=col>Poverty</th><th scope=col>ChildPoverty</th><th scope=col>Service</th><th scope=col>Construction</th><th scope=col>Drive</th><th scope=col>Transit</th><th scope=col>Private</th><th scope=col>SelfEmployment</th><th scope=col>Unemployment</th><th scope=col>state_income</th></tr></thead>\n",
       "<tbody>\n",
       "\t<tr><td>Alabama   </td><td>45.37500  </td><td>1.0000000 </td><td>0.5000000 </td><td> 8        </td><td> 4830620  </td><td>26.291679 </td><td>19.03988  </td><td>26.95183  </td><td>17.24675  </td><td>10.115963 </td><td>85.06247  </td><td>0.4838298 </td><td>78.17725  </td><td>5.263766  </td><td> 9.676994 </td><td>43296.36  </td></tr>\n",
       "\t<tr><td>Alaska    </td><td>34.00000  </td><td>0.5000000 </td><td>0.0000000 </td><td> 2        </td><td>  733375  </td><td> 3.237458 </td><td>10.18925  </td><td>13.48816  </td><td>17.82320  </td><td>12.711182 </td><td>66.57127  </td><td>1.5962648 </td><td>66.91694  </td><td>6.221027  </td><td> 8.629494 </td><td>70354.74  </td></tr>\n",
       "\t<tr><td>Arizona   </td><td>36.16000  </td><td>1.0000000 </td><td>0.0400000 </td><td>25        </td><td> 6641928  </td><td> 3.976038 </td><td>18.41133  </td><td>24.12551  </td><td>20.51459  </td><td> 9.751332 </td><td>76.03430  </td><td>2.0536178 </td><td>78.37049  </td><td>6.074106  </td><td> 9.330965 </td><td>54207.82  </td></tr>\n",
       "\t<tr><td>Arkansas  </td><td>43.50000  </td><td>1.0000000 </td><td>0.2500000 </td><td> 4        </td><td> 2958208  </td><td>15.439997 </td><td>19.48904  </td><td>27.12886  </td><td>17.48723  </td><td>10.946623 </td><td>82.26080  </td><td>0.4645027 </td><td>76.94434  </td><td>6.376722  </td><td> 7.931186 </td><td>41935.63  </td></tr>\n",
       "\t<tr><td>California</td><td>36.27027  </td><td>0.9189189 </td><td>0.1891892 </td><td>74        </td><td>38421464  </td><td> 5.623900 </td><td>16.32581  </td><td>20.49133  </td><td>19.15202  </td><td> 9.774289 </td><td>73.41819  </td><td>4.9389018 </td><td>77.38185  </td><td>8.191065  </td><td>10.146248 </td><td>67264.78  </td></tr>\n",
       "\t<tr><td>Colorado  </td><td>36.50000  </td><td>1.0000000 </td><td>0.3333333 </td><td>12        </td><td> 5278906  </td><td> 3.849205 </td><td>12.81617  </td><td>16.40862  </td><td>17.78196  </td><td> 9.697401 </td><td>75.32241  </td><td>3.0915076 </td><td>78.94612  </td><td>6.380540  </td><td> 7.087066 </td><td>64657.80  </td></tr>\n",
       "</tbody>\n",
       "</table>\n"
      ],
      "text/latex": [
       "\\begin{tabular}{r|lllllllllllllllll}\n",
       " State & age & was.shot & is.black.binary & state.counts & state\\_pop & perc.black & Poverty & ChildPoverty & Service & Construction & Drive & Transit & Private & SelfEmployment & Unemployment & state\\_income\\\\\n",
       "\\hline\n",
       "\t Alabama    & 45.37500   & 1.0000000  & 0.5000000  &  8         &  4830620   & 26.291679  & 19.03988   & 26.95183   & 17.24675   & 10.115963  & 85.06247   & 0.4838298  & 78.17725   & 5.263766   &  9.676994  & 43296.36  \\\\\n",
       "\t Alaska     & 34.00000   & 0.5000000  & 0.0000000  &  2         &   733375   &  3.237458  & 10.18925   & 13.48816   & 17.82320   & 12.711182  & 66.57127   & 1.5962648  & 66.91694   & 6.221027   &  8.629494  & 70354.74  \\\\\n",
       "\t Arizona    & 36.16000   & 1.0000000  & 0.0400000  & 25         &  6641928   &  3.976038  & 18.41133   & 24.12551   & 20.51459   &  9.751332  & 76.03430   & 2.0536178  & 78.37049   & 6.074106   &  9.330965  & 54207.82  \\\\\n",
       "\t Arkansas   & 43.50000   & 1.0000000  & 0.2500000  &  4         &  2958208   & 15.439997  & 19.48904   & 27.12886   & 17.48723   & 10.946623  & 82.26080   & 0.4645027  & 76.94434   & 6.376722   &  7.931186  & 41935.63  \\\\\n",
       "\t California & 36.27027   & 0.9189189  & 0.1891892  & 74         & 38421464   &  5.623900  & 16.32581   & 20.49133   & 19.15202   &  9.774289  & 73.41819   & 4.9389018  & 77.38185   & 8.191065   & 10.146248  & 67264.78  \\\\\n",
       "\t Colorado   & 36.50000   & 1.0000000  & 0.3333333  & 12         &  5278906   &  3.849205  & 12.81617   & 16.40862   & 17.78196   &  9.697401  & 75.32241   & 3.0915076  & 78.94612   & 6.380540   &  7.087066  & 64657.80  \\\\\n",
       "\\end{tabular}\n"
      ],
      "text/markdown": [
       "\n",
       "| State | age | was.shot | is.black.binary | state.counts | state_pop | perc.black | Poverty | ChildPoverty | Service | Construction | Drive | Transit | Private | SelfEmployment | Unemployment | state_income |\n",
       "|---|---|---|---|---|---|---|---|---|---|---|---|---|---|---|---|---|\n",
       "| Alabama    | 45.37500   | 1.0000000  | 0.5000000  |  8         |  4830620   | 26.291679  | 19.03988   | 26.95183   | 17.24675   | 10.115963  | 85.06247   | 0.4838298  | 78.17725   | 5.263766   |  9.676994  | 43296.36   |\n",
       "| Alaska     | 34.00000   | 0.5000000  | 0.0000000  |  2         |   733375   |  3.237458  | 10.18925   | 13.48816   | 17.82320   | 12.711182  | 66.57127   | 1.5962648  | 66.91694   | 6.221027   |  8.629494  | 70354.74   |\n",
       "| Arizona    | 36.16000   | 1.0000000  | 0.0400000  | 25         |  6641928   |  3.976038  | 18.41133   | 24.12551   | 20.51459   |  9.751332  | 76.03430   | 2.0536178  | 78.37049   | 6.074106   |  9.330965  | 54207.82   |\n",
       "| Arkansas   | 43.50000   | 1.0000000  | 0.2500000  |  4         |  2958208   | 15.439997  | 19.48904   | 27.12886   | 17.48723   | 10.946623  | 82.26080   | 0.4645027  | 76.94434   | 6.376722   |  7.931186  | 41935.63   |\n",
       "| California | 36.27027   | 0.9189189  | 0.1891892  | 74         | 38421464   |  5.623900  | 16.32581   | 20.49133   | 19.15202   |  9.774289  | 73.41819   | 4.9389018  | 77.38185   | 8.191065   | 10.146248  | 67264.78   |\n",
       "| Colorado   | 36.50000   | 1.0000000  | 0.3333333  | 12         |  5278906   |  3.849205  | 12.81617   | 16.40862   | 17.78196   |  9.697401  | 75.32241   | 3.0915076  | 78.94612   | 6.380540   |  7.087066  | 64657.80   |\n",
       "\n"
      ],
      "text/plain": [
       "  State      age      was.shot  is.black.binary state.counts state_pop\n",
       "1 Alabama    45.37500 1.0000000 0.5000000        8            4830620 \n",
       "2 Alaska     34.00000 0.5000000 0.0000000        2             733375 \n",
       "3 Arizona    36.16000 1.0000000 0.0400000       25            6641928 \n",
       "4 Arkansas   43.50000 1.0000000 0.2500000        4            2958208 \n",
       "5 California 36.27027 0.9189189 0.1891892       74           38421464 \n",
       "6 Colorado   36.50000 1.0000000 0.3333333       12            5278906 \n",
       "  perc.black Poverty  ChildPoverty Service  Construction Drive    Transit  \n",
       "1 26.291679  19.03988 26.95183     17.24675 10.115963    85.06247 0.4838298\n",
       "2  3.237458  10.18925 13.48816     17.82320 12.711182    66.57127 1.5962648\n",
       "3  3.976038  18.41133 24.12551     20.51459  9.751332    76.03430 2.0536178\n",
       "4 15.439997  19.48904 27.12886     17.48723 10.946623    82.26080 0.4645027\n",
       "5  5.623900  16.32581 20.49133     19.15202  9.774289    73.41819 4.9389018\n",
       "6  3.849205  12.81617 16.40862     17.78196  9.697401    75.32241 3.0915076\n",
       "  Private  SelfEmployment Unemployment state_income\n",
       "1 78.17725 5.263766        9.676994    43296.36    \n",
       "2 66.91694 6.221027        8.629494    70354.74    \n",
       "3 78.37049 6.074106        9.330965    54207.82    \n",
       "4 76.94434 6.376722        7.931186    41935.63    \n",
       "5 77.38185 8.191065       10.146248    67264.78    \n",
       "6 78.94612 6.380540        7.087066    64657.80    "
      ]
     },
     "metadata": {},
     "output_type": "display_data"
    }
   ],
   "source": [
    "head(new_merged_df)"
   ]
  },
  {
   "cell_type": "markdown",
   "metadata": {},
   "source": [
    "#### Model 1: Predicting Killed Per State"
   ]
  },
  {
   "cell_type": "code",
   "execution_count": 83,
   "metadata": {},
   "outputs": [
    {
     "data": {
      "text/plain": [
       "\n",
       "Call:\n",
       "glm(formula = state.counts ~ . - State - is.black.binary, family = \"poisson\", \n",
       "    data = new_merged_df)\n",
       "\n",
       "Deviance Residuals: \n",
       "    Min       1Q   Median       3Q      Max  \n",
       "-2.2257  -1.0007  -0.3298   0.5225   4.3383  \n",
       "\n",
       "Coefficients:\n",
       "                 Estimate Std. Error z value Pr(>|z|)    \n",
       "(Intercept)    -2.610e+00  4.527e+00  -0.577 0.564237    \n",
       "age            -4.225e-02  1.345e-02  -3.141 0.001686 ** \n",
       "was.shot       -2.181e-01  3.807e-01  -0.573 0.566676    \n",
       "state_pop       5.742e-08  9.471e-09   6.062 1.34e-09 ***\n",
       "perc.black     -9.976e-03  8.855e-03  -1.127 0.259901    \n",
       "Poverty        -2.024e-01  1.524e-01  -1.328 0.184215    \n",
       "ChildPoverty    3.315e-01  1.142e-01   2.903 0.003698 ** \n",
       "Service        -1.304e-02  3.828e-02  -0.341 0.733425    \n",
       "Construction    1.500e-03  6.984e-02   0.021 0.982869    \n",
       "Drive          -4.270e-02  3.278e-02  -1.302 0.192746    \n",
       "Transit        -5.487e-02  3.952e-02  -1.388 0.165003    \n",
       "Private         5.315e-02  3.082e-02   1.724 0.084631 .  \n",
       "SelfEmployment -7.286e-03  9.017e-02  -0.081 0.935599    \n",
       "Unemployment   -1.294e-01  5.919e-02  -2.187 0.028776 *  \n",
       "state_income    5.811e-05  1.690e-05   3.439 0.000584 ***\n",
       "---\n",
       "Signif. codes:  0 ‘***’ 0.001 ‘**’ 0.01 ‘*’ 0.05 ‘.’ 0.1 ‘ ’ 1\n",
       "\n",
       "(Dispersion parameter for poisson family taken to be 1)\n",
       "\n",
       "    Null deviance: 455.336  on 46  degrees of freedom\n",
       "Residual deviance:  69.362  on 32  degrees of freedom\n",
       "AIC: 272.87\n",
       "\n",
       "Number of Fisher Scoring iterations: 5\n"
      ]
     },
     "metadata": {},
     "output_type": "display_data"
    }
   ],
   "source": [
    "glm1 <- glm(state.counts ~.-State-is.black.binary, data=new_merged_df, family=\"poisson\")\n",
    "summary(glm1)"
   ]
  },
  {
   "cell_type": "code",
   "execution_count": 84,
   "metadata": {},
   "outputs": [
    {
     "data": {
      "text/html": [
       "<dl class=dl-horizontal>\n",
       "\t<dt>age</dt>\n",
       "\t\t<dd>1.60826441601616</dd>\n",
       "\t<dt>was.shot</dt>\n",
       "\t\t<dd>1.66515701977674</dd>\n",
       "\t<dt>state_pop</dt>\n",
       "\t\t<dd>6.87259163321421</dd>\n",
       "\t<dt>perc.black</dt>\n",
       "\t\t<dd>2.85712681447785</dd>\n",
       "\t<dt>Poverty</dt>\n",
       "\t\t<dd>76.8118748445411</dd>\n",
       "\t<dt>ChildPoverty</dt>\n",
       "\t\t<dd>98.7381905578212</dd>\n",
       "\t<dt>Service</dt>\n",
       "\t\t<dd>1.69334771726223</dd>\n",
       "\t<dt>Construction</dt>\n",
       "\t\t<dd>5.77675143189948</dd>\n",
       "\t<dt>Drive</dt>\n",
       "\t\t<dd>21.1145852151059</dd>\n",
       "\t<dt>Transit</dt>\n",
       "\t\t<dd>20.5069617000249</dd>\n",
       "\t<dt>Private</dt>\n",
       "\t\t<dd>4.35319571746785</dd>\n",
       "\t<dt>SelfEmployment</dt>\n",
       "\t\t<dd>5.05461736678095</dd>\n",
       "\t<dt>Unemployment</dt>\n",
       "\t\t<dd>3.54755137342852</dd>\n",
       "\t<dt>state_income</dt>\n",
       "\t\t<dd>12.0138165373865</dd>\n",
       "</dl>\n"
      ],
      "text/latex": [
       "\\begin{description*}\n",
       "\\item[age] 1.60826441601616\n",
       "\\item[was.shot] 1.66515701977674\n",
       "\\item[state\\textbackslash{}\\_pop] 6.87259163321421\n",
       "\\item[perc.black] 2.85712681447785\n",
       "\\item[Poverty] 76.8118748445411\n",
       "\\item[ChildPoverty] 98.7381905578212\n",
       "\\item[Service] 1.69334771726223\n",
       "\\item[Construction] 5.77675143189948\n",
       "\\item[Drive] 21.1145852151059\n",
       "\\item[Transit] 20.5069617000249\n",
       "\\item[Private] 4.35319571746785\n",
       "\\item[SelfEmployment] 5.05461736678095\n",
       "\\item[Unemployment] 3.54755137342852\n",
       "\\item[state\\textbackslash{}\\_income] 12.0138165373865\n",
       "\\end{description*}\n"
      ],
      "text/markdown": [
       "age\n",
       ":   1.60826441601616was.shot\n",
       ":   1.66515701977674state_pop\n",
       ":   6.87259163321421perc.black\n",
       ":   2.85712681447785Poverty\n",
       ":   76.8118748445411ChildPoverty\n",
       ":   98.7381905578212Service\n",
       ":   1.69334771726223Construction\n",
       ":   5.77675143189948Drive\n",
       ":   21.1145852151059Transit\n",
       ":   20.5069617000249Private\n",
       ":   4.35319571746785SelfEmployment\n",
       ":   5.05461736678095Unemployment\n",
       ":   3.54755137342852state_income\n",
       ":   12.0138165373865\n",
       "\n"
      ],
      "text/plain": [
       "           age       was.shot      state_pop     perc.black        Poverty \n",
       "      1.608264       1.665157       6.872592       2.857127      76.811875 \n",
       "  ChildPoverty        Service   Construction          Drive        Transit \n",
       "     98.738191       1.693348       5.776751      21.114585      20.506962 \n",
       "       Private SelfEmployment   Unemployment   state_income \n",
       "      4.353196       5.054617       3.547551      12.013817 "
      ]
     },
     "metadata": {},
     "output_type": "display_data"
    }
   ],
   "source": [
    "# Before we add back in is.black.binary look at variation inflation factors to detect collinearity\n",
    "vif(glm1)"
   ]
  },
  {
   "cell_type": "code",
   "execution_count": 88,
   "metadata": {},
   "outputs": [
    {
     "data": {
      "text/plain": [
       "\n",
       "Call:\n",
       "glm(formula = state.counts ~ . - State - is.black.binary - ChildPoverty - \n",
       "    Transit - state_income, family = \"poisson\", data = new_merged_df)\n",
       "\n",
       "Deviance Residuals: \n",
       "    Min       1Q   Median       3Q      Max  \n",
       "-2.2706  -1.0335  -0.4404   0.3939   4.0867  \n",
       "\n",
       "Coefficients:\n",
       "                 Estimate Std. Error z value Pr(>|z|)    \n",
       "(Intercept)     2.144e+00  2.197e+00   0.976  0.32920    \n",
       "age            -3.164e-02  1.113e-02  -2.843  0.00447 ** \n",
       "was.shot       -5.731e-01  3.596e-01  -1.594  0.11103    \n",
       "state_pop       8.047e-08  6.420e-09  12.534  < 2e-16 ***\n",
       "perc.black     -4.831e-03  7.795e-03  -0.620  0.53544    \n",
       "Poverty         9.556e-02  3.091e-02   3.092  0.00199 ** \n",
       "Service         7.363e-03  3.764e-02   0.196  0.84489    \n",
       "Construction    5.822e-03  5.867e-02   0.099  0.92095    \n",
       "Drive           1.424e-02  1.143e-02   1.246  0.21267    \n",
       "Private        -6.043e-03  2.589e-02  -0.233  0.81543    \n",
       "SelfEmployment -9.135e-02  7.633e-02  -1.197  0.23138    \n",
       "Unemployment   -7.397e-02  5.411e-02  -1.367  0.17162    \n",
       "---\n",
       "Signif. codes:  0 ‘***’ 0.001 ‘**’ 0.01 ‘*’ 0.05 ‘.’ 0.1 ‘ ’ 1\n",
       "\n",
       "(Dispersion parameter for poisson family taken to be 1)\n",
       "\n",
       "    Null deviance: 455.336  on 46  degrees of freedom\n",
       "Residual deviance:  87.796  on 35  degrees of freedom\n",
       "AIC: 285.31\n",
       "\n",
       "Number of Fisher Scoring iterations: 5\n"
      ]
     },
     "metadata": {},
     "output_type": "display_data"
    }
   ],
   "source": [
    "# Remove Income, ChildPoverty, Transit\n",
    "glm1a <- glm(state.counts ~.-State-is.black.binary-ChildPoverty-Transit-state_income,\n",
    "             data=new_merged_df, family=\"poisson\")\n",
    "summary(glm1a)"
   ]
  },
  {
   "cell_type": "code",
   "execution_count": 89,
   "metadata": {},
   "outputs": [
    {
     "data": {
      "text/html": [
       "<dl class=dl-horizontal>\n",
       "\t<dt>age</dt>\n",
       "\t\t<dd>1.20643381216835</dd>\n",
       "\t<dt>was.shot</dt>\n",
       "\t\t<dd>1.42693321090929</dd>\n",
       "\t<dt>state_pop</dt>\n",
       "\t\t<dd>3.25483901997271</dd>\n",
       "\t<dt>perc.black</dt>\n",
       "\t\t<dd>2.28442606374983</dd>\n",
       "\t<dt>Poverty</dt>\n",
       "\t\t<dd>3.07181165976191</dd>\n",
       "\t<dt>Service</dt>\n",
       "\t\t<dd>1.59129361154099</dd>\n",
       "\t<dt>Construction</dt>\n",
       "\t\t<dd>4.26246799570904</dd>\n",
       "\t<dt>Drive</dt>\n",
       "\t\t<dd>2.83308404082074</dd>\n",
       "\t<dt>Private</dt>\n",
       "\t\t<dd>3.06661371759862</dd>\n",
       "\t<dt>SelfEmployment</dt>\n",
       "\t\t<dd>3.85999125646445</dd>\n",
       "\t<dt>Unemployment</dt>\n",
       "\t\t<dd>3.15855445947836</dd>\n",
       "</dl>\n"
      ],
      "text/latex": [
       "\\begin{description*}\n",
       "\\item[age] 1.20643381216835\n",
       "\\item[was.shot] 1.42693321090929\n",
       "\\item[state\\textbackslash{}\\_pop] 3.25483901997271\n",
       "\\item[perc.black] 2.28442606374983\n",
       "\\item[Poverty] 3.07181165976191\n",
       "\\item[Service] 1.59129361154099\n",
       "\\item[Construction] 4.26246799570904\n",
       "\\item[Drive] 2.83308404082074\n",
       "\\item[Private] 3.06661371759862\n",
       "\\item[SelfEmployment] 3.85999125646445\n",
       "\\item[Unemployment] 3.15855445947836\n",
       "\\end{description*}\n"
      ],
      "text/markdown": [
       "age\n",
       ":   1.20643381216835was.shot\n",
       ":   1.42693321090929state_pop\n",
       ":   3.25483901997271perc.black\n",
       ":   2.28442606374983Poverty\n",
       ":   3.07181165976191Service\n",
       ":   1.59129361154099Construction\n",
       ":   4.26246799570904Drive\n",
       ":   2.83308404082074Private\n",
       ":   3.06661371759862SelfEmployment\n",
       ":   3.85999125646445Unemployment\n",
       ":   3.15855445947836\n",
       "\n"
      ],
      "text/plain": [
       "           age       was.shot      state_pop     perc.black        Poverty \n",
       "      1.206434       1.426933       3.254839       2.284426       3.071812 \n",
       "       Service   Construction          Drive        Private SelfEmployment \n",
       "      1.591294       4.262468       2.833084       3.066614       3.859991 \n",
       "  Unemployment \n",
       "      3.158554 "
      ]
     },
     "metadata": {},
     "output_type": "display_data"
    }
   ],
   "source": [
    "# Check variation inflation factors agaon\n",
    "vif(glm1a)"
   ]
  },
  {
   "cell_type": "code",
   "execution_count": 91,
   "metadata": {},
   "outputs": [
    {
     "data": {
      "text/plain": [
       "\n",
       "Call:\n",
       "glm(formula = state.counts ~ . - State - ChildPoverty - state_income - \n",
       "    Transit, family = \"poisson\", data = new_merged_df)\n",
       "\n",
       "Deviance Residuals: \n",
       "    Min       1Q   Median       3Q      Max  \n",
       "-1.9037  -1.0089  -0.3420   0.4786   4.4702  \n",
       "\n",
       "Coefficients:\n",
       "                  Estimate Std. Error z value Pr(>|z|)    \n",
       "(Intercept)     -6.901e-01  2.344e+00  -0.294 0.768479    \n",
       "age             -2.734e-02  1.143e-02  -2.392 0.016769 *  \n",
       "was.shot        -7.691e-01  3.852e-01  -1.997 0.045841 *  \n",
       "is.black.binary  1.454e+00  4.333e-01   3.357 0.000789 ***\n",
       "state_pop        7.240e-08  6.838e-09  10.589  < 2e-16 ***\n",
       "perc.black      -2.533e-02  9.966e-03  -2.542 0.011025 *  \n",
       "Poverty          1.015e-01  3.121e-02   3.252 0.001147 ** \n",
       "Service          3.726e-03  3.905e-02   0.095 0.923991    \n",
       "Construction     8.337e-02  6.226e-02   1.339 0.180564    \n",
       "Drive            1.262e-02  1.129e-02   1.117 0.263826    \n",
       "Private          9.448e-03  2.565e-02   0.368 0.712588    \n",
       "SelfEmployment  -3.306e-02  7.868e-02  -0.420 0.674335    \n",
       "Unemployment    -8.370e-03  5.846e-02  -0.143 0.886156    \n",
       "---\n",
       "Signif. codes:  0 ‘***’ 0.001 ‘**’ 0.01 ‘*’ 0.05 ‘.’ 0.1 ‘ ’ 1\n",
       "\n",
       "(Dispersion parameter for poisson family taken to be 1)\n",
       "\n",
       "    Null deviance: 455.336  on 46  degrees of freedom\n",
       "Residual deviance:  75.625  on 34  degrees of freedom\n",
       "AIC: 275.14\n",
       "\n",
       "Number of Fisher Scoring iterations: 5\n"
      ]
     },
     "metadata": {},
     "output_type": "display_data"
    }
   ],
   "source": [
    "# Now add back in is.black.binary\n",
    "glm2 <- glm(state.counts ~.-State-ChildPoverty-state_income-Transit,\n",
    "             data=new_merged_df, family=\"poisson\")\n",
    "summary(glm2)"
   ]
  },
  {
   "cell_type": "code",
   "execution_count": 92,
   "metadata": {
    "scrolled": false
   },
   "outputs": [
    {
     "data": {
      "text/html": [
       "<table>\n",
       "<thead><tr><th scope=col>#Df</th><th scope=col>LogLik</th><th scope=col>Df</th><th scope=col>Chisq</th><th scope=col>Pr(&gt;Chisq)</th></tr></thead>\n",
       "<tbody>\n",
       "\t<tr><td>12          </td><td>-130.6540   </td><td>NA          </td><td>      NA    </td><td>          NA</td></tr>\n",
       "\t<tr><td>13          </td><td>-124.5685   </td><td> 1          </td><td>12.17102    </td><td>0.0004853783</td></tr>\n",
       "</tbody>\n",
       "</table>\n"
      ],
      "text/latex": [
       "\\begin{tabular}{r|lllll}\n",
       " \\#Df & LogLik & Df & Chisq & Pr(>Chisq)\\\\\n",
       "\\hline\n",
       "\t 12           & -130.6540    & NA           &       NA     &           NA\\\\\n",
       "\t 13           & -124.5685    &  1           & 12.17102     & 0.0004853783\\\\\n",
       "\\end{tabular}\n"
      ],
      "text/markdown": [
       "\n",
       "| #Df | LogLik | Df | Chisq | Pr(>Chisq) |\n",
       "|---|---|---|---|---|\n",
       "| 12           | -130.6540    | NA           |       NA     |           NA |\n",
       "| 13           | -124.5685    |  1           | 12.17102     | 0.0004853783 |\n",
       "\n"
      ],
      "text/plain": [
       "  #Df LogLik    Df Chisq    Pr(>Chisq)  \n",
       "1 12  -130.6540 NA       NA           NA\n",
       "2 13  -124.5685  1 12.17102 0.0004853783"
      ]
     },
     "metadata": {},
     "output_type": "display_data"
    }
   ],
   "source": [
    "lrtest(glm1a, glm2)"
   ]
  },
  {
   "cell_type": "markdown",
   "metadata": {},
   "source": [
    "#### Model 2: Predicting If Shot"
   ]
  },
  {
   "cell_type": "code",
   "execution_count": 97,
   "metadata": {},
   "outputs": [
    {
     "data": {
      "text/html": [
       "<table>\n",
       "<thead><tr><th scope=col>age</th><th scope=col>h_income</th><th scope=col>county_bucket</th><th scope=col>nat_bucket</th><th scope=col>urate</th><th scope=col>TotalPop</th><th scope=col>Black</th><th scope=col>Poverty</th><th scope=col>ChildPoverty</th><th scope=col>Service</th><th scope=col>Construction</th><th scope=col>Drive</th><th scope=col>Transit</th><th scope=col>PrivateWork</th><th scope=col>SelfEmployed</th><th scope=col>was.shot</th><th scope=col>is.black.binary</th><th scope=col>state.counts</th><th scope=col>state_pop</th><th scope=col>perc.black</th></tr></thead>\n",
       "<tbody>\n",
       "\t<tr><td>55        </td><td>48173     </td><td>3         </td><td>3         </td><td>0.07307933</td><td>7455      </td><td>13.6      </td><td> 6.5      </td><td> 7.0      </td><td>15.5      </td><td>10.2      </td><td>89.5      </td><td>0.0       </td><td>79.4      </td><td>2.4       </td><td>1         </td><td>0         </td><td>8         </td><td>4830620   </td><td>26.29168  </td></tr>\n",
       "\t<tr><td>17        </td><td>51367     </td><td>3         </td><td>3         </td><td>0.09768638</td><td>3845      </td><td>26.6      </td><td>16.2      </td><td>27.1      </td><td>22.5      </td><td>11.2      </td><td>81.2      </td><td>0.0       </td><td>71.5      </td><td>6.5       </td><td>1         </td><td>1         </td><td>8         </td><td>4830620   </td><td>26.29168  </td></tr>\n",
       "\t<tr><td>74        </td><td>23977     </td><td>1         </td><td>1         </td><td>0.14504881</td><td>3795      </td><td>76.4      </td><td>42.6      </td><td>60.4      </td><td>32.4      </td><td> 7.0      </td><td>65.7      </td><td>1.4       </td><td>86.8      </td><td>2.3       </td><td>1         </td><td>1         </td><td>8         </td><td>4830620   </td><td>26.29168  </td></tr>\n",
       "\t<tr><td>39        </td><td>35780     </td><td>2         </td><td>2         </td><td>0.05291894</td><td>3441      </td><td>21.1      </td><td>22.9      </td><td>23.3      </td><td>31.5      </td><td> 8.5      </td><td>82.8      </td><td>2.0       </td><td>86.2      </td><td>2.7       </td><td>1         </td><td>1         </td><td>8         </td><td>4830620   </td><td>26.29168  </td></tr>\n",
       "\t<tr><td>54        </td><td>81996     </td><td>5         </td><td>5         </td><td>0.03591606</td><td>4976      </td><td> 0.2      </td><td> 0.9      </td><td> 0.5      </td><td>10.5      </td><td> 6.8      </td><td>85.3      </td><td>0.0       </td><td>71.5      </td><td>2.5       </td><td>1         </td><td>0         </td><td>8         </td><td>4830620   </td><td>26.29168  </td></tr>\n",
       "\t<tr><td>40        </td><td>38078     </td><td>3         </td><td>2         </td><td>0.16827934</td><td>5677      </td><td> 2.2      </td><td>22.2      </td><td>20.3      </td><td>19.5      </td><td>16.3      </td><td>90.5      </td><td>0.0       </td><td>77.6      </td><td>8.0       </td><td>1         </td><td>0         </td><td>8         </td><td>4830620   </td><td>26.29168  </td></tr>\n",
       "</tbody>\n",
       "</table>\n"
      ],
      "text/latex": [
       "\\begin{tabular}{r|llllllllllllllllllll}\n",
       " age & h\\_income & county\\_bucket & nat\\_bucket & urate & TotalPop & Black & Poverty & ChildPoverty & Service & Construction & Drive & Transit & PrivateWork & SelfEmployed & was.shot & is.black.binary & state.counts & state\\_pop & perc.black\\\\\n",
       "\\hline\n",
       "\t 55         & 48173      & 3          & 3          & 0.07307933 & 7455       & 13.6       &  6.5       &  7.0       & 15.5       & 10.2       & 89.5       & 0.0        & 79.4       & 2.4        & 1          & 0          & 8          & 4830620    & 26.29168  \\\\\n",
       "\t 17         & 51367      & 3          & 3          & 0.09768638 & 3845       & 26.6       & 16.2       & 27.1       & 22.5       & 11.2       & 81.2       & 0.0        & 71.5       & 6.5        & 1          & 1          & 8          & 4830620    & 26.29168  \\\\\n",
       "\t 74         & 23977      & 1          & 1          & 0.14504881 & 3795       & 76.4       & 42.6       & 60.4       & 32.4       &  7.0       & 65.7       & 1.4        & 86.8       & 2.3        & 1          & 1          & 8          & 4830620    & 26.29168  \\\\\n",
       "\t 39         & 35780      & 2          & 2          & 0.05291894 & 3441       & 21.1       & 22.9       & 23.3       & 31.5       &  8.5       & 82.8       & 2.0        & 86.2       & 2.7        & 1          & 1          & 8          & 4830620    & 26.29168  \\\\\n",
       "\t 54         & 81996      & 5          & 5          & 0.03591606 & 4976       &  0.2       &  0.9       &  0.5       & 10.5       &  6.8       & 85.3       & 0.0        & 71.5       & 2.5        & 1          & 0          & 8          & 4830620    & 26.29168  \\\\\n",
       "\t 40         & 38078      & 3          & 2          & 0.16827934 & 5677       &  2.2       & 22.2       & 20.3       & 19.5       & 16.3       & 90.5       & 0.0        & 77.6       & 8.0        & 1          & 0          & 8          & 4830620    & 26.29168  \\\\\n",
       "\\end{tabular}\n"
      ],
      "text/markdown": [
       "\n",
       "| age | h_income | county_bucket | nat_bucket | urate | TotalPop | Black | Poverty | ChildPoverty | Service | Construction | Drive | Transit | PrivateWork | SelfEmployed | was.shot | is.black.binary | state.counts | state_pop | perc.black |\n",
       "|---|---|---|---|---|---|---|---|---|---|---|---|---|---|---|---|---|---|---|---|\n",
       "| 55         | 48173      | 3          | 3          | 0.07307933 | 7455       | 13.6       |  6.5       |  7.0       | 15.5       | 10.2       | 89.5       | 0.0        | 79.4       | 2.4        | 1          | 0          | 8          | 4830620    | 26.29168   |\n",
       "| 17         | 51367      | 3          | 3          | 0.09768638 | 3845       | 26.6       | 16.2       | 27.1       | 22.5       | 11.2       | 81.2       | 0.0        | 71.5       | 6.5        | 1          | 1          | 8          | 4830620    | 26.29168   |\n",
       "| 74         | 23977      | 1          | 1          | 0.14504881 | 3795       | 76.4       | 42.6       | 60.4       | 32.4       |  7.0       | 65.7       | 1.4        | 86.8       | 2.3        | 1          | 1          | 8          | 4830620    | 26.29168   |\n",
       "| 39         | 35780      | 2          | 2          | 0.05291894 | 3441       | 21.1       | 22.9       | 23.3       | 31.5       |  8.5       | 82.8       | 2.0        | 86.2       | 2.7        | 1          | 1          | 8          | 4830620    | 26.29168   |\n",
       "| 54         | 81996      | 5          | 5          | 0.03591606 | 4976       |  0.2       |  0.9       |  0.5       | 10.5       |  6.8       | 85.3       | 0.0        | 71.5       | 2.5        | 1          | 0          | 8          | 4830620    | 26.29168   |\n",
       "| 40         | 38078      | 3          | 2          | 0.16827934 | 5677       |  2.2       | 22.2       | 20.3       | 19.5       | 16.3       | 90.5       | 0.0        | 77.6       | 8.0        | 1          | 0          | 8          | 4830620    | 26.29168   |\n",
       "\n"
      ],
      "text/plain": [
       "  age h_income county_bucket nat_bucket urate      TotalPop Black Poverty\n",
       "1 55  48173    3             3          0.07307933 7455     13.6   6.5   \n",
       "2 17  51367    3             3          0.09768638 3845     26.6  16.2   \n",
       "3 74  23977    1             1          0.14504881 3795     76.4  42.6   \n",
       "4 39  35780    2             2          0.05291894 3441     21.1  22.9   \n",
       "5 54  81996    5             5          0.03591606 4976      0.2   0.9   \n",
       "6 40  38078    3             2          0.16827934 5677      2.2  22.2   \n",
       "  ChildPoverty Service Construction Drive Transit PrivateWork SelfEmployed\n",
       "1  7.0         15.5    10.2         89.5  0.0     79.4        2.4         \n",
       "2 27.1         22.5    11.2         81.2  0.0     71.5        6.5         \n",
       "3 60.4         32.4     7.0         65.7  1.4     86.8        2.3         \n",
       "4 23.3         31.5     8.5         82.8  2.0     86.2        2.7         \n",
       "5  0.5         10.5     6.8         85.3  0.0     71.5        2.5         \n",
       "6 20.3         19.5    16.3         90.5  0.0     77.6        8.0         \n",
       "  was.shot is.black.binary state.counts state_pop perc.black\n",
       "1 1        0               8            4830620   26.29168  \n",
       "2 1        1               8            4830620   26.29168  \n",
       "3 1        1               8            4830620   26.29168  \n",
       "4 1        1               8            4830620   26.29168  \n",
       "5 1        0               8            4830620   26.29168  \n",
       "6 1        0               8            4830620   26.29168  "
      ]
     },
     "metadata": {},
     "output_type": "display_data"
    }
   ],
   "source": [
    "shot_df <- tbl_df(data)\n",
    "shot_df <- shot_df %>% \n",
    "    select(-c(State, County, region))\n",
    "head(shot_df)"
   ]
  },
  {
   "cell_type": "code",
   "execution_count": 98,
   "metadata": {},
   "outputs": [
    {
     "data": {
      "text/plain": [
       "\n",
       "Call:\n",
       "glm(formula = was.shot ~ . - is.black.binary, family = \"binomial\", \n",
       "    data = shot_df)\n",
       "\n",
       "Deviance Residuals: \n",
       "    Min       1Q   Median       3Q      Max  \n",
       "-2.6134   0.2892   0.4018   0.5405   1.2082  \n",
       "\n",
       "Coefficients:\n",
       "                 Estimate Std. Error z value Pr(>|z|)  \n",
       "(Intercept)     3.171e+00  2.859e+00   1.109   0.2673  \n",
       "age            -2.121e-02  1.112e-02  -1.907   0.0565 .\n",
       "h_income       -3.948e-05  2.357e-05  -1.675   0.0940 .\n",
       "county_bucket2  1.212e-01  4.464e-01   0.272   0.7860  \n",
       "county_bucket3 -1.475e-01  5.390e-01  -0.274   0.7843  \n",
       "county_bucket4 -3.998e-01  6.357e-01  -0.629   0.5294  \n",
       "county_bucket5 -6.211e-02  7.530e-01  -0.082   0.9343  \n",
       "nat_bucket2     1.339e+00  5.458e-01   2.453   0.0142 *\n",
       "nat_bucket3     1.754e+00  7.220e-01   2.429   0.0151 *\n",
       "nat_bucket4     2.013e+00  9.560e-01   2.105   0.0353 *\n",
       "nat_bucket5     3.607e+00  1.805e+00   1.998   0.0457 *\n",
       "urate          -4.776e+00  2.831e+00  -1.687   0.0916 .\n",
       "TotalPop        9.197e-05  8.366e-05   1.099   0.2717  \n",
       "Black           5.919e-03  8.590e-03   0.689   0.4908  \n",
       "Poverty         6.047e-02  3.963e-02   1.526   0.1271  \n",
       "ChildPoverty   -2.007e-02  2.150e-02  -0.933   0.3506  \n",
       "Service        -4.083e-02  2.383e-02  -1.714   0.0866 .\n",
       "Construction    3.978e-03  2.639e-02   0.151   0.8802  \n",
       "Drive          -2.716e-03  2.079e-02  -0.131   0.8960  \n",
       "Transit        -3.068e-02  2.502e-02  -1.226   0.2201  \n",
       "PrivateWork     1.395e-02  2.180e-02   0.640   0.5222  \n",
       "SelfEmployed   -4.310e-02  4.665e-02  -0.924   0.3556  \n",
       "state.counts    1.692e-02  2.089e-02   0.810   0.4179  \n",
       "state_pop      -1.697e-08  3.951e-08  -0.429   0.6676  \n",
       "perc.black     -6.999e-03  2.023e-02  -0.346   0.7293  \n",
       "---\n",
       "Signif. codes:  0 ‘***’ 0.001 ‘**’ 0.01 ‘*’ 0.05 ‘.’ 0.1 ‘ ’ 1\n",
       "\n",
       "(Dispersion parameter for binomial family taken to be 1)\n",
       "\n",
       "    Null deviance: 342.04  on 464  degrees of freedom\n",
       "Residual deviance: 309.61  on 440  degrees of freedom\n",
       "AIC: 359.61\n",
       "\n",
       "Number of Fisher Scoring iterations: 5\n"
      ]
     },
     "metadata": {},
     "output_type": "display_data"
    }
   ],
   "source": [
    "glm3 = glm(was.shot ~.-is.black.binary, data=shot_df, family=\"binomial\")\n",
    "summary(glm3)"
   ]
  },
  {
   "cell_type": "code",
   "execution_count": 99,
   "metadata": {},
   "outputs": [
    {
     "data": {
      "text/html": [
       "<table>\n",
       "<thead><tr><th></th><th scope=col>GVIF</th><th scope=col>Df</th><th scope=col>GVIF^(1/(2*Df))</th></tr></thead>\n",
       "<tbody>\n",
       "\t<tr><th scope=row>age</th><td> 1.098116</td><td>1        </td><td>1.047910 </td></tr>\n",
       "\t<tr><th scope=row>h_income</th><td>12.969477</td><td>1        </td><td>3.601316 </td></tr>\n",
       "\t<tr><th scope=row>county_bucket</th><td> 3.450435</td><td>4        </td><td>1.167439 </td></tr>\n",
       "\t<tr><th scope=row>nat_bucket</th><td>21.156805</td><td>4        </td><td>1.464473 </td></tr>\n",
       "\t<tr><th scope=row>urate</th><td> 2.341512</td><td>1        </td><td>1.530200 </td></tr>\n",
       "\t<tr><th scope=row>TotalPop</th><td> 1.213841</td><td>1        </td><td>1.101744 </td></tr>\n",
       "\t<tr><th scope=row>Black</th><td> 2.632346</td><td>1        </td><td>1.622451 </td></tr>\n",
       "\t<tr><th scope=row>Poverty</th><td>13.924594</td><td>1        </td><td>3.731567 </td></tr>\n",
       "\t<tr><th scope=row>ChildPoverty</th><td> 8.655399</td><td>1        </td><td>2.942006 </td></tr>\n",
       "\t<tr><th scope=row>Service</th><td> 2.227826</td><td>1        </td><td>1.492590 </td></tr>\n",
       "\t<tr><th scope=row>Construction</th><td> 1.441597</td><td>1        </td><td>1.200665 </td></tr>\n",
       "\t<tr><th scope=row>Drive</th><td> 5.303853</td><td>1        </td><td>2.303010 </td></tr>\n",
       "\t<tr><th scope=row>Transit</th><td> 4.864448</td><td>1        </td><td>2.205549 </td></tr>\n",
       "\t<tr><th scope=row>PrivateWork</th><td> 1.438864</td><td>1        </td><td>1.199526 </td></tr>\n",
       "\t<tr><th scope=row>SelfEmployed</th><td> 1.493384</td><td>1        </td><td>1.222041 </td></tr>\n",
       "\t<tr><th scope=row>state.counts</th><td> 9.920030</td><td>1        </td><td>3.149608 </td></tr>\n",
       "\t<tr><th scope=row>state_pop</th><td> 9.491228</td><td>1        </td><td>3.080784 </td></tr>\n",
       "\t<tr><th scope=row>perc.black</th><td> 1.482949</td><td>1        </td><td>1.217764 </td></tr>\n",
       "</tbody>\n",
       "</table>\n"
      ],
      "text/latex": [
       "\\begin{tabular}{r|lll}\n",
       "  & GVIF & Df & GVIF\\textasciicircum{}(1/(2*Df))\\\\\n",
       "\\hline\n",
       "\tage &  1.098116 & 1         & 1.047910 \\\\\n",
       "\th\\_income & 12.969477 & 1         & 3.601316 \\\\\n",
       "\tcounty\\_bucket &  3.450435 & 4         & 1.167439 \\\\\n",
       "\tnat\\_bucket & 21.156805 & 4         & 1.464473 \\\\\n",
       "\turate &  2.341512 & 1         & 1.530200 \\\\\n",
       "\tTotalPop &  1.213841 & 1         & 1.101744 \\\\\n",
       "\tBlack &  2.632346 & 1         & 1.622451 \\\\\n",
       "\tPoverty & 13.924594 & 1         & 3.731567 \\\\\n",
       "\tChildPoverty &  8.655399 & 1         & 2.942006 \\\\\n",
       "\tService &  2.227826 & 1         & 1.492590 \\\\\n",
       "\tConstruction &  1.441597 & 1         & 1.200665 \\\\\n",
       "\tDrive &  5.303853 & 1         & 2.303010 \\\\\n",
       "\tTransit &  4.864448 & 1         & 2.205549 \\\\\n",
       "\tPrivateWork &  1.438864 & 1         & 1.199526 \\\\\n",
       "\tSelfEmployed &  1.493384 & 1         & 1.222041 \\\\\n",
       "\tstate.counts &  9.920030 & 1         & 3.149608 \\\\\n",
       "\tstate\\_pop &  9.491228 & 1         & 3.080784 \\\\\n",
       "\tperc.black &  1.482949 & 1         & 1.217764 \\\\\n",
       "\\end{tabular}\n"
      ],
      "text/markdown": [
       "\n",
       "| <!--/--> | GVIF | Df | GVIF^(1/(2*Df)) |\n",
       "|---|---|---|---|\n",
       "| age |  1.098116 | 1         | 1.047910  |\n",
       "| h_income | 12.969477 | 1         | 3.601316  |\n",
       "| county_bucket |  3.450435 | 4         | 1.167439  |\n",
       "| nat_bucket | 21.156805 | 4         | 1.464473  |\n",
       "| urate |  2.341512 | 1         | 1.530200  |\n",
       "| TotalPop |  1.213841 | 1         | 1.101744  |\n",
       "| Black |  2.632346 | 1         | 1.622451  |\n",
       "| Poverty | 13.924594 | 1         | 3.731567  |\n",
       "| ChildPoverty |  8.655399 | 1         | 2.942006  |\n",
       "| Service |  2.227826 | 1         | 1.492590  |\n",
       "| Construction |  1.441597 | 1         | 1.200665  |\n",
       "| Drive |  5.303853 | 1         | 2.303010  |\n",
       "| Transit |  4.864448 | 1         | 2.205549  |\n",
       "| PrivateWork |  1.438864 | 1         | 1.199526  |\n",
       "| SelfEmployed |  1.493384 | 1         | 1.222041  |\n",
       "| state.counts |  9.920030 | 1         | 3.149608  |\n",
       "| state_pop |  9.491228 | 1         | 3.080784  |\n",
       "| perc.black |  1.482949 | 1         | 1.217764  |\n",
       "\n"
      ],
      "text/plain": [
       "              GVIF      Df GVIF^(1/(2*Df))\n",
       "age            1.098116 1  1.047910       \n",
       "h_income      12.969477 1  3.601316       \n",
       "county_bucket  3.450435 4  1.167439       \n",
       "nat_bucket    21.156805 4  1.464473       \n",
       "urate          2.341512 1  1.530200       \n",
       "TotalPop       1.213841 1  1.101744       \n",
       "Black          2.632346 1  1.622451       \n",
       "Poverty       13.924594 1  3.731567       \n",
       "ChildPoverty   8.655399 1  2.942006       \n",
       "Service        2.227826 1  1.492590       \n",
       "Construction   1.441597 1  1.200665       \n",
       "Drive          5.303853 1  2.303010       \n",
       "Transit        4.864448 1  2.205549       \n",
       "PrivateWork    1.438864 1  1.199526       \n",
       "SelfEmployed   1.493384 1  1.222041       \n",
       "state.counts   9.920030 1  3.149608       \n",
       "state_pop      9.491228 1  3.080784       \n",
       "perc.black     1.482949 1  1.217764       "
      ]
     },
     "metadata": {},
     "output_type": "display_data"
    }
   ],
   "source": [
    "vif(glm3)"
   ]
  },
  {
   "cell_type": "code",
   "execution_count": 101,
   "metadata": {},
   "outputs": [
    {
     "data": {
      "text/plain": [
       "\n",
       "Call:\n",
       "glm(formula = was.shot ~ . - is.black.binary - h_income - nat_bucket - \n",
       "    ChildPoverty, family = \"binomial\", data = shot_df)\n",
       "\n",
       "Deviance Residuals: \n",
       "    Min       1Q   Median       3Q      Max  \n",
       "-2.5231   0.3271   0.4330   0.5417   1.2028  \n",
       "\n",
       "Coefficients:\n",
       "                 Estimate Std. Error z value Pr(>|z|)  \n",
       "(Intercept)     3.270e+00  2.449e+00   1.335   0.1818  \n",
       "age            -2.039e-02  1.086e-02  -1.877   0.0606 .\n",
       "county_bucket2  2.852e-01  4.300e-01   0.663   0.5071  \n",
       "county_bucket3  6.439e-02  4.870e-01   0.132   0.8948  \n",
       "county_bucket4 -2.749e-01  5.539e-01  -0.496   0.6197  \n",
       "county_bucket5 -9.081e-03  6.059e-01  -0.015   0.9880  \n",
       "urate          -3.170e+00  2.646e+00  -1.198   0.2309  \n",
       "TotalPop        1.048e-04  8.114e-05   1.291   0.1967  \n",
       "Black           4.521e-03  8.584e-03   0.527   0.5984  \n",
       "Poverty         1.836e-02  1.710e-02   1.074   0.2828  \n",
       "Service        -3.931e-02  2.225e-02  -1.767   0.0773 .\n",
       "Construction    2.831e-03  2.556e-02   0.111   0.9118  \n",
       "Drive          -4.646e-03  1.910e-02  -0.243   0.8078  \n",
       "Transit        -2.821e-02  2.407e-02  -1.172   0.2412  \n",
       "PrivateWork     6.650e-03  2.110e-02   0.315   0.7527  \n",
       "SelfEmployed   -4.681e-02  4.568e-02  -1.025   0.3055  \n",
       "state.counts    2.011e-02  2.086e-02   0.964   0.3349  \n",
       "state_pop      -2.264e-08  3.942e-08  -0.574   0.5658  \n",
       "perc.black     -7.489e-03  1.978e-02  -0.379   0.7050  \n",
       "---\n",
       "Signif. codes:  0 ‘***’ 0.001 ‘**’ 0.01 ‘*’ 0.05 ‘.’ 0.1 ‘ ’ 1\n",
       "\n",
       "(Dispersion parameter for binomial family taken to be 1)\n",
       "\n",
       "    Null deviance: 342.04  on 464  degrees of freedom\n",
       "Residual deviance: 318.18  on 446  degrees of freedom\n",
       "AIC: 356.18\n",
       "\n",
       "Number of Fisher Scoring iterations: 5\n"
      ]
     },
     "metadata": {},
     "output_type": "display_data"
    }
   ],
   "source": [
    "glm4 = glm(was.shot ~.-is.black.binary-h_income-nat_bucket-ChildPoverty, data=shot_df, family=\"binomial\")\n",
    "summary(glm4)"
   ]
  },
  {
   "cell_type": "code",
   "execution_count": 102,
   "metadata": {},
   "outputs": [
    {
     "data": {
      "text/html": [
       "<table>\n",
       "<thead><tr><th></th><th scope=col>GVIF</th><th scope=col>Df</th><th scope=col>GVIF^(1/(2*Df))</th></tr></thead>\n",
       "<tbody>\n",
       "\t<tr><th scope=row>age</th><td> 1.070312</td><td>1        </td><td>1.034559 </td></tr>\n",
       "\t<tr><th scope=row>county_bucket</th><td> 1.934011</td><td>4        </td><td>1.085944 </td></tr>\n",
       "\t<tr><th scope=row>urate</th><td> 2.102979</td><td>1        </td><td>1.450165 </td></tr>\n",
       "\t<tr><th scope=row>TotalPop</th><td> 1.194227</td><td>1        </td><td>1.092807 </td></tr>\n",
       "\t<tr><th scope=row>Black</th><td> 2.646700</td><td>1        </td><td>1.626868 </td></tr>\n",
       "\t<tr><th scope=row>Poverty</th><td> 2.789029</td><td>1        </td><td>1.670039 </td></tr>\n",
       "\t<tr><th scope=row>Service</th><td> 2.033559</td><td>1        </td><td>1.426029 </td></tr>\n",
       "\t<tr><th scope=row>Construction</th><td> 1.337060</td><td>1        </td><td>1.156313 </td></tr>\n",
       "\t<tr><th scope=row>Drive</th><td> 4.502511</td><td>1        </td><td>2.121912 </td></tr>\n",
       "\t<tr><th scope=row>Transit</th><td> 4.544445</td><td>1        </td><td>2.131770 </td></tr>\n",
       "\t<tr><th scope=row>PrivateWork</th><td> 1.392928</td><td>1        </td><td>1.180224 </td></tr>\n",
       "\t<tr><th scope=row>SelfEmployed</th><td> 1.471108</td><td>1        </td><td>1.212892 </td></tr>\n",
       "\t<tr><th scope=row>state.counts</th><td>10.057792</td><td>1        </td><td>3.171402 </td></tr>\n",
       "\t<tr><th scope=row>state_pop</th><td> 9.620695</td><td>1        </td><td>3.101725 </td></tr>\n",
       "\t<tr><th scope=row>perc.black</th><td> 1.466808</td><td>1        </td><td>1.211118 </td></tr>\n",
       "</tbody>\n",
       "</table>\n"
      ],
      "text/latex": [
       "\\begin{tabular}{r|lll}\n",
       "  & GVIF & Df & GVIF\\textasciicircum{}(1/(2*Df))\\\\\n",
       "\\hline\n",
       "\tage &  1.070312 & 1         & 1.034559 \\\\\n",
       "\tcounty\\_bucket &  1.934011 & 4         & 1.085944 \\\\\n",
       "\turate &  2.102979 & 1         & 1.450165 \\\\\n",
       "\tTotalPop &  1.194227 & 1         & 1.092807 \\\\\n",
       "\tBlack &  2.646700 & 1         & 1.626868 \\\\\n",
       "\tPoverty &  2.789029 & 1         & 1.670039 \\\\\n",
       "\tService &  2.033559 & 1         & 1.426029 \\\\\n",
       "\tConstruction &  1.337060 & 1         & 1.156313 \\\\\n",
       "\tDrive &  4.502511 & 1         & 2.121912 \\\\\n",
       "\tTransit &  4.544445 & 1         & 2.131770 \\\\\n",
       "\tPrivateWork &  1.392928 & 1         & 1.180224 \\\\\n",
       "\tSelfEmployed &  1.471108 & 1         & 1.212892 \\\\\n",
       "\tstate.counts & 10.057792 & 1         & 3.171402 \\\\\n",
       "\tstate\\_pop &  9.620695 & 1         & 3.101725 \\\\\n",
       "\tperc.black &  1.466808 & 1         & 1.211118 \\\\\n",
       "\\end{tabular}\n"
      ],
      "text/markdown": [
       "\n",
       "| <!--/--> | GVIF | Df | GVIF^(1/(2*Df)) |\n",
       "|---|---|---|---|\n",
       "| age |  1.070312 | 1         | 1.034559  |\n",
       "| county_bucket |  1.934011 | 4         | 1.085944  |\n",
       "| urate |  2.102979 | 1         | 1.450165  |\n",
       "| TotalPop |  1.194227 | 1         | 1.092807  |\n",
       "| Black |  2.646700 | 1         | 1.626868  |\n",
       "| Poverty |  2.789029 | 1         | 1.670039  |\n",
       "| Service |  2.033559 | 1         | 1.426029  |\n",
       "| Construction |  1.337060 | 1         | 1.156313  |\n",
       "| Drive |  4.502511 | 1         | 2.121912  |\n",
       "| Transit |  4.544445 | 1         | 2.131770  |\n",
       "| PrivateWork |  1.392928 | 1         | 1.180224  |\n",
       "| SelfEmployed |  1.471108 | 1         | 1.212892  |\n",
       "| state.counts | 10.057792 | 1         | 3.171402  |\n",
       "| state_pop |  9.620695 | 1         | 3.101725  |\n",
       "| perc.black |  1.466808 | 1         | 1.211118  |\n",
       "\n"
      ],
      "text/plain": [
       "              GVIF      Df GVIF^(1/(2*Df))\n",
       "age            1.070312 1  1.034559       \n",
       "county_bucket  1.934011 4  1.085944       \n",
       "urate          2.102979 1  1.450165       \n",
       "TotalPop       1.194227 1  1.092807       \n",
       "Black          2.646700 1  1.626868       \n",
       "Poverty        2.789029 1  1.670039       \n",
       "Service        2.033559 1  1.426029       \n",
       "Construction   1.337060 1  1.156313       \n",
       "Drive          4.502511 1  2.121912       \n",
       "Transit        4.544445 1  2.131770       \n",
       "PrivateWork    1.392928 1  1.180224       \n",
       "SelfEmployed   1.471108 1  1.212892       \n",
       "state.counts  10.057792 1  3.171402       \n",
       "state_pop      9.620695 1  3.101725       \n",
       "perc.black     1.466808 1  1.211118       "
      ]
     },
     "metadata": {},
     "output_type": "display_data"
    }
   ],
   "source": [
    "vif(glm4)"
   ]
  },
  {
   "cell_type": "code",
   "execution_count": 103,
   "metadata": {},
   "outputs": [
    {
     "data": {
      "text/plain": [
       "\n",
       "Call:\n",
       "glm(formula = was.shot ~ . - h_income - nat_bucket - ChildPoverty, \n",
       "    family = \"binomial\", data = shot_df)\n",
       "\n",
       "Deviance Residuals: \n",
       "    Min       1Q   Median       3Q      Max  \n",
       "-2.5612   0.2867   0.3966   0.5411   1.4690  \n",
       "\n",
       "Coefficients:\n",
       "                  Estimate Std. Error z value Pr(>|z|)   \n",
       "(Intercept)      3.640e+00  2.427e+00   1.500  0.13368   \n",
       "age             -2.700e-02  1.140e-02  -2.369  0.01784 * \n",
       "county_bucket2   3.246e-01  4.337e-01   0.749  0.45415   \n",
       "county_bucket3   6.983e-02  4.926e-01   0.142  0.88728   \n",
       "county_bucket4  -1.446e-01  5.609e-01  -0.258  0.79652   \n",
       "county_bucket5   3.054e-02  6.121e-01   0.050  0.96021   \n",
       "urate           -3.241e+00  2.712e+00  -1.195  0.23213   \n",
       "TotalPop         9.266e-05  8.187e-05   1.132  0.25772   \n",
       "Black            1.398e-02  9.352e-03   1.495  0.13502   \n",
       "Poverty          1.982e-02  1.696e-02   1.169  0.24246   \n",
       "Service         -4.339e-02  2.265e-02  -1.916  0.05541 . \n",
       "Construction     5.216e-03  2.578e-02   0.202  0.83967   \n",
       "Drive           -7.929e-03  1.915e-02  -0.414  0.67879   \n",
       "Transit         -2.896e-02  2.432e-02  -1.191  0.23377   \n",
       "PrivateWork      1.210e-02  2.102e-02   0.576  0.56474   \n",
       "SelfEmployed    -6.233e-02  4.631e-02  -1.346  0.17831   \n",
       "is.black.binary -1.107e+00  3.862e-01  -2.866  0.00416 **\n",
       "state.counts     1.945e-02  2.091e-02   0.930  0.35236   \n",
       "state_pop       -1.893e-08  3.948e-08  -0.480  0.63153   \n",
       "perc.black      -2.989e-03  2.022e-02  -0.148  0.88244   \n",
       "---\n",
       "Signif. codes:  0 ‘***’ 0.001 ‘**’ 0.01 ‘*’ 0.05 ‘.’ 0.1 ‘ ’ 1\n",
       "\n",
       "(Dispersion parameter for binomial family taken to be 1)\n",
       "\n",
       "    Null deviance: 342.04  on 464  degrees of freedom\n",
       "Residual deviance: 310.22  on 445  degrees of freedom\n",
       "AIC: 350.22\n",
       "\n",
       "Number of Fisher Scoring iterations: 5\n"
      ]
     },
     "metadata": {},
     "output_type": "display_data"
    }
   ],
   "source": [
    "glm5 = glm(was.shot ~.-h_income-nat_bucket-ChildPoverty, data=shot_df, family=\"binomial\")\n",
    "summary(glm5)"
   ]
  },
  {
   "cell_type": "code",
   "execution_count": 106,
   "metadata": {},
   "outputs": [
    {
     "data": {
      "text/html": [
       "0.678964373035278"
      ],
      "text/latex": [
       "0.678964373035278"
      ],
      "text/markdown": [
       "0.678964373035278"
      ],
      "text/plain": [
       "Area under the curve: 0.679"
      ]
     },
     "metadata": {},
     "output_type": "display_data"
    },
    {
     "data": {
      "image/png": "[encoded data removed]",
      "text/plain": [
       "plot without title"
      ]
     },
     "metadata": {},
     "output_type": "display_data"
    }
   ],
   "source": [
    "attach(shot_df)\n",
    "glm.probs = predict(glm4, type=\"response\")\n",
    "glm.odds = exp(predict(glm4, type=\"link\"))\n",
    "\n",
    "roc.2 = roc(was.shot,glm.probs)\n",
    "auc(roc.2)\n",
    "ggroc(data=roc.2)\n",
    "detach(shot_df)"
   ]
  },
  {
   "cell_type": "code",
   "execution_count": 105,
   "metadata": {},
   "outputs": [
    {
     "data": {
      "text/html": [
       "<table>\n",
       "<thead><tr><th scope=col>#Df</th><th scope=col>LogLik</th><th scope=col>Df</th><th scope=col>Chisq</th><th scope=col>Pr(&gt;Chisq)</th></tr></thead>\n",
       "<tbody>\n",
       "\t<tr><td>19        </td><td>-159.0896 </td><td>NA        </td><td>      NA  </td><td>        NA</td></tr>\n",
       "\t<tr><td>20        </td><td>-155.1112 </td><td> 1        </td><td>7.956775  </td><td>0.00479077</td></tr>\n",
       "</tbody>\n",
       "</table>\n"
      ],
      "text/latex": [
       "\\begin{tabular}{r|lllll}\n",
       " \\#Df & LogLik & Df & Chisq & Pr(>Chisq)\\\\\n",
       "\\hline\n",
       "\t 19         & -159.0896  & NA         &       NA   &         NA\\\\\n",
       "\t 20         & -155.1112  &  1         & 7.956775   & 0.00479077\\\\\n",
       "\\end{tabular}\n"
      ],
      "text/markdown": [
       "\n",
       "| #Df | LogLik | Df | Chisq | Pr(>Chisq) |\n",
       "|---|---|---|---|---|\n",
       "| 19         | -159.0896  | NA         |       NA   |         NA |\n",
       "| 20         | -155.1112  |  1         | 7.956775   | 0.00479077 |\n",
       "\n"
      ],
      "text/plain": [
       "  #Df LogLik    Df Chisq    Pr(>Chisq)\n",
       "1 19  -159.0896 NA       NA         NA\n",
       "2 20  -155.1112  1 7.956775 0.00479077"
      ]
     },
     "metadata": {},
     "output_type": "display_data"
    }
   ],
   "source": [
    "lrtest(glm4, glm5)"
   ]
  },
  {
   "cell_type": "code",
   "execution_count": 107,
   "metadata": {},
   "outputs": [
    {
     "data": {
      "text/html": [
       "0.72192630108278"
      ],
      "text/latex": [
       "0.72192630108278"
      ],
      "text/markdown": [
       "0.72192630108278"
      ],
      "text/plain": [
       "Area under the curve: 0.7219"
      ]
     },
     "metadata": {},
     "output_type": "display_data"
    },
    {
     "data": {
      "image/png": "[encoded data removed]",
      "text/plain": [
       "plot without title"
      ]
     },
     "metadata": {},
     "output_type": "display_data"
    }
   ],
   "source": [
    "attach(shot_df)\n",
    "glm.probs = predict(glm5, type=\"response\")\n",
    "glm.odds = exp(predict(glm5, type=\"link\"))\n",
    "\n",
    "roc.2 = roc(was.shot,glm.probs)\n",
    "auc(roc.2)\n",
    "ggroc(data=roc.2)\n",
    "detach(shot_df)"
   ]
  },
  {
   "cell_type": "markdown",
   "metadata": {},
   "source": [
    "#### Model 3: Predict a killed person being African American in a certain region (compare to african americans in that region)"
   ]
  },
  {
   "cell_type": "code",
   "execution_count": 100,
   "metadata": {},
   "outputs": [
    {
     "data": {
      "text/html": [
       "<table>\n",
       "<thead><tr><th scope=col>age</th><th scope=col>region</th><th scope=col>h_income</th><th scope=col>county_bucket</th><th scope=col>nat_bucket</th><th scope=col>urate</th><th scope=col>TotalPop</th><th scope=col>Black</th><th scope=col>Poverty</th><th scope=col>ChildPoverty</th><th scope=col>⋯</th><th scope=col>Construction</th><th scope=col>Drive</th><th scope=col>Transit</th><th scope=col>PrivateWork</th><th scope=col>SelfEmployed</th><th scope=col>was.shot</th><th scope=col>is.black.binary</th><th scope=col>state.counts</th><th scope=col>state_pop</th><th scope=col>perc.black</th></tr></thead>\n",
       "<tbody>\n",
       "\t<tr><td>55        </td><td>South     </td><td>48173     </td><td>3         </td><td>3         </td><td>0.07307933</td><td>7455      </td><td>13.6      </td><td> 6.5      </td><td> 7.0      </td><td>⋯         </td><td>10.2      </td><td>89.5      </td><td>0.0       </td><td>79.4      </td><td>2.4       </td><td>1         </td><td>0         </td><td>8         </td><td>4830620   </td><td>26.29168  </td></tr>\n",
       "\t<tr><td>17        </td><td>South     </td><td>51367     </td><td>3         </td><td>3         </td><td>0.09768638</td><td>3845      </td><td>26.6      </td><td>16.2      </td><td>27.1      </td><td>⋯         </td><td>11.2      </td><td>81.2      </td><td>0.0       </td><td>71.5      </td><td>6.5       </td><td>1         </td><td>1         </td><td>8         </td><td>4830620   </td><td>26.29168  </td></tr>\n",
       "\t<tr><td>74        </td><td>South     </td><td>23977     </td><td>1         </td><td>1         </td><td>0.14504881</td><td>3795      </td><td>76.4      </td><td>42.6      </td><td>60.4      </td><td>⋯         </td><td> 7.0      </td><td>65.7      </td><td>1.4       </td><td>86.8      </td><td>2.3       </td><td>1         </td><td>1         </td><td>8         </td><td>4830620   </td><td>26.29168  </td></tr>\n",
       "\t<tr><td>39        </td><td>South     </td><td>35780     </td><td>2         </td><td>2         </td><td>0.05291894</td><td>3441      </td><td>21.1      </td><td>22.9      </td><td>23.3      </td><td>⋯         </td><td> 8.5      </td><td>82.8      </td><td>2.0       </td><td>86.2      </td><td>2.7       </td><td>1         </td><td>1         </td><td>8         </td><td>4830620   </td><td>26.29168  </td></tr>\n",
       "\t<tr><td>54        </td><td>South     </td><td>81996     </td><td>5         </td><td>5         </td><td>0.03591606</td><td>4976      </td><td> 0.2      </td><td> 0.9      </td><td> 0.5      </td><td>⋯         </td><td> 6.8      </td><td>85.3      </td><td>0.0       </td><td>71.5      </td><td>2.5       </td><td>1         </td><td>0         </td><td>8         </td><td>4830620   </td><td>26.29168  </td></tr>\n",
       "\t<tr><td>40        </td><td>South     </td><td>38078     </td><td>3         </td><td>2         </td><td>0.16827934</td><td>5677      </td><td> 2.2      </td><td>22.2      </td><td>20.3      </td><td>⋯         </td><td>16.3      </td><td>90.5      </td><td>0.0       </td><td>77.6      </td><td>8.0       </td><td>1         </td><td>0         </td><td>8         </td><td>4830620   </td><td>26.29168  </td></tr>\n",
       "</tbody>\n",
       "</table>\n"
      ],
      "text/latex": [
       "\\begin{tabular}{r|lllllllllllllllllllll}\n",
       " age & region & h\\_income & county\\_bucket & nat\\_bucket & urate & TotalPop & Black & Poverty & ChildPoverty & ⋯ & Construction & Drive & Transit & PrivateWork & SelfEmployed & was.shot & is.black.binary & state.counts & state\\_pop & perc.black\\\\\n",
       "\\hline\n",
       "\t 55         & South      & 48173      & 3          & 3          & 0.07307933 & 7455       & 13.6       &  6.5       &  7.0       & ⋯          & 10.2       & 89.5       & 0.0        & 79.4       & 2.4        & 1          & 0          & 8          & 4830620    & 26.29168  \\\\\n",
       "\t 17         & South      & 51367      & 3          & 3          & 0.09768638 & 3845       & 26.6       & 16.2       & 27.1       & ⋯          & 11.2       & 81.2       & 0.0        & 71.5       & 6.5        & 1          & 1          & 8          & 4830620    & 26.29168  \\\\\n",
       "\t 74         & South      & 23977      & 1          & 1          & 0.14504881 & 3795       & 76.4       & 42.6       & 60.4       & ⋯          &  7.0       & 65.7       & 1.4        & 86.8       & 2.3        & 1          & 1          & 8          & 4830620    & 26.29168  \\\\\n",
       "\t 39         & South      & 35780      & 2          & 2          & 0.05291894 & 3441       & 21.1       & 22.9       & 23.3       & ⋯          &  8.5       & 82.8       & 2.0        & 86.2       & 2.7        & 1          & 1          & 8          & 4830620    & 26.29168  \\\\\n",
       "\t 54         & South      & 81996      & 5          & 5          & 0.03591606 & 4976       &  0.2       &  0.9       &  0.5       & ⋯          &  6.8       & 85.3       & 0.0        & 71.5       & 2.5        & 1          & 0          & 8          & 4830620    & 26.29168  \\\\\n",
       "\t 40         & South      & 38078      & 3          & 2          & 0.16827934 & 5677       &  2.2       & 22.2       & 20.3       & ⋯          & 16.3       & 90.5       & 0.0        & 77.6       & 8.0        & 1          & 0          & 8          & 4830620    & 26.29168  \\\\\n",
       "\\end{tabular}\n"
      ],
      "text/markdown": [
       "\n",
       "| age | region | h_income | county_bucket | nat_bucket | urate | TotalPop | Black | Poverty | ChildPoverty | ⋯ | Construction | Drive | Transit | PrivateWork | SelfEmployed | was.shot | is.black.binary | state.counts | state_pop | perc.black |\n",
       "|---|---|---|---|---|---|---|---|---|---|---|---|---|---|---|---|---|---|---|---|---|\n",
       "| 55         | South      | 48173      | 3          | 3          | 0.07307933 | 7455       | 13.6       |  6.5       |  7.0       | ⋯          | 10.2       | 89.5       | 0.0        | 79.4       | 2.4        | 1          | 0          | 8          | 4830620    | 26.29168   |\n",
       "| 17         | South      | 51367      | 3          | 3          | 0.09768638 | 3845       | 26.6       | 16.2       | 27.1       | ⋯          | 11.2       | 81.2       | 0.0        | 71.5       | 6.5        | 1          | 1          | 8          | 4830620    | 26.29168   |\n",
       "| 74         | South      | 23977      | 1          | 1          | 0.14504881 | 3795       | 76.4       | 42.6       | 60.4       | ⋯          |  7.0       | 65.7       | 1.4        | 86.8       | 2.3        | 1          | 1          | 8          | 4830620    | 26.29168   |\n",
       "| 39         | South      | 35780      | 2          | 2          | 0.05291894 | 3441       | 21.1       | 22.9       | 23.3       | ⋯          |  8.5       | 82.8       | 2.0        | 86.2       | 2.7        | 1          | 1          | 8          | 4830620    | 26.29168   |\n",
       "| 54         | South      | 81996      | 5          | 5          | 0.03591606 | 4976       |  0.2       |  0.9       |  0.5       | ⋯          |  6.8       | 85.3       | 0.0        | 71.5       | 2.5        | 1          | 0          | 8          | 4830620    | 26.29168   |\n",
       "| 40         | South      | 38078      | 3          | 2          | 0.16827934 | 5677       |  2.2       | 22.2       | 20.3       | ⋯          | 16.3       | 90.5       | 0.0        | 77.6       | 8.0        | 1          | 0          | 8          | 4830620    | 26.29168   |\n",
       "\n"
      ],
      "text/plain": [
       "  age region h_income county_bucket nat_bucket urate      TotalPop Black\n",
       "1 55  South  48173    3             3          0.07307933 7455     13.6 \n",
       "2 17  South  51367    3             3          0.09768638 3845     26.6 \n",
       "3 74  South  23977    1             1          0.14504881 3795     76.4 \n",
       "4 39  South  35780    2             2          0.05291894 3441     21.1 \n",
       "5 54  South  81996    5             5          0.03591606 4976      0.2 \n",
       "6 40  South  38078    3             2          0.16827934 5677      2.2 \n",
       "  Poverty ChildPoverty ⋯ Construction Drive Transit PrivateWork SelfEmployed\n",
       "1  6.5     7.0         ⋯ 10.2         89.5  0.0     79.4        2.4         \n",
       "2 16.2    27.1         ⋯ 11.2         81.2  0.0     71.5        6.5         \n",
       "3 42.6    60.4         ⋯  7.0         65.7  1.4     86.8        2.3         \n",
       "4 22.9    23.3         ⋯  8.5         82.8  2.0     86.2        2.7         \n",
       "5  0.9     0.5         ⋯  6.8         85.3  0.0     71.5        2.5         \n",
       "6 22.2    20.3         ⋯ 16.3         90.5  0.0     77.6        8.0         \n",
       "  was.shot is.black.binary state.counts state_pop perc.black\n",
       "1 1        0               8            4830620   26.29168  \n",
       "2 1        1               8            4830620   26.29168  \n",
       "3 1        1               8            4830620   26.29168  \n",
       "4 1        1               8            4830620   26.29168  \n",
       "5 1        0               8            4830620   26.29168  \n",
       "6 1        0               8            4830620   26.29168  "
      ]
     },
     "metadata": {},
     "output_type": "display_data"
    }
   ],
   "source": [
    "killed_df <- tbl_df(data)\n",
    "killed_df <- killed_df %>% \n",
    "    select(-c(State, County))\n",
    "head(killed_df)"
   ]
  },
  {
   "cell_type": "code",
   "execution_count": 101,
   "metadata": {
    "scrolled": false
   },
   "outputs": [
    {
     "data": {
      "text/plain": [
       "\n",
       "Call:\n",
       "glm(formula = is.black.binary ~ . - region, family = \"binomial\", \n",
       "    data = killed_df)\n",
       "\n",
       "Deviance Residuals: \n",
       "    Min       1Q   Median       3Q      Max  \n",
       "-2.6637  -0.6218  -0.3773   0.2573   2.5707  \n",
       "\n",
       "Coefficients:\n",
       "                 Estimate Std. Error z value Pr(>|z|)    \n",
       "(Intercept)    -5.103e+00  2.527e+00  -2.020 0.043423 *  \n",
       "age            -4.391e-02  1.169e-02  -3.754 0.000174 ***\n",
       "h_income        3.294e-05  2.285e-05   1.442 0.149436    \n",
       "county_bucket2 -6.932e-02  3.822e-01  -0.181 0.856089    \n",
       "county_bucket3 -8.696e-01  4.757e-01  -1.828 0.067526 .  \n",
       "county_bucket4 -3.784e-01  5.775e-01  -0.655 0.512238    \n",
       "county_bucket5 -1.746e+00  6.904e-01  -2.529 0.011426 *  \n",
       "nat_bucket2     3.695e-01  4.913e-01   0.752 0.451997    \n",
       "nat_bucket3     1.074e+00  6.501e-01   1.652 0.098579 .  \n",
       "nat_bucket4     1.408e+00  8.751e-01   1.609 0.107533    \n",
       "nat_bucket5     1.187e+00  1.485e+00   0.799 0.424018    \n",
       "urate           5.558e-02  2.691e+00   0.021 0.983520    \n",
       "TotalPop       -1.389e-04  6.465e-05  -2.148 0.031676 *  \n",
       "Black           5.190e-02  9.037e-03   5.743 9.29e-09 ***\n",
       "Poverty         7.999e-02  2.910e-02   2.749 0.005985 ** \n",
       "ChildPoverty   -2.686e-02  1.708e-02  -1.573 0.115684    \n",
       "Service        -5.290e-03  2.183e-02  -0.242 0.808502    \n",
       "Construction    1.648e-02  2.176e-02   0.757 0.448806    \n",
       "Drive           2.035e-02  1.764e-02   1.154 0.248627    \n",
       "Transit         2.984e-02  2.435e-02   1.225 0.220406    \n",
       "PrivateWork     2.465e-02  2.155e-02   1.144 0.252620    \n",
       "SelfEmployed   -8.391e-02  4.533e-02  -1.851 0.064159 .  \n",
       "was.shot       -1.119e+00  3.880e-01  -2.883 0.003936 ** \n",
       "state.counts   -1.446e-03  2.026e-02  -0.071 0.943118    \n",
       "state_pop       3.422e-09  3.872e-08   0.088 0.929579    \n",
       "perc.black      3.504e-02  1.794e-02   1.953 0.050763 .  \n",
       "---\n",
       "Signif. codes:  0 ‘***’ 0.001 ‘**’ 0.01 ‘*’ 0.05 ‘.’ 0.1 ‘ ’ 1\n",
       "\n",
       "(Dispersion parameter for binomial family taken to be 1)\n",
       "\n",
       "    Null deviance: 556.65  on 464  degrees of freedom\n",
       "Residual deviance: 371.35  on 439  degrees of freedom\n",
       "AIC: 423.35\n",
       "\n",
       "Number of Fisher Scoring iterations: 5\n"
      ]
     },
     "metadata": {},
     "output_type": "display_data"
    }
   ],
   "source": [
    "glm5 = glm(is.black.binary ~.-region, data=killed_df, family=\"binomial\")\n",
    "summary(glm5)"
   ]
  },
  {
   "cell_type": "code",
   "execution_count": 102,
   "metadata": {},
   "outputs": [
    {
     "data": {
      "text/plain": [
       "         \n",
       "glm5.pred   0   1\n",
       "    FALSE 312  60\n",
       "    TRUE   20  73"
      ]
     },
     "metadata": {},
     "output_type": "display_data"
    }
   ],
   "source": [
    "glm5.probs <- predict(glm5, type=\"response\")\n",
    "glm5.odds <- exp(predict(glm5,type=\"link\"))\n",
    "glm5.pred <- (glm5.probs > 0.5)\n",
    "table(glm5.pred, killed_df$is.black.binary)"
   ]
  },
  {
   "cell_type": "code",
   "execution_count": 125,
   "metadata": {
    "scrolled": false
   },
   "outputs": [
    {
     "data": {
      "text/html": [
       "<table>\n",
       "<thead><tr><th scope=col>data.region</th><th scope=col>percent</th></tr></thead>\n",
       "<tbody>\n",
       "\t<tr><td>Midwest   </td><td>0.27777778</td></tr>\n",
       "\t<tr><td>Northeast </td><td>0.30769231</td></tr>\n",
       "\t<tr><td>South     </td><td>0.27777778</td></tr>\n",
       "\t<tr><td>West      </td><td>0.03846154</td></tr>\n",
       "</tbody>\n",
       "</table>\n"
      ],
      "text/latex": [
       "\\begin{tabular}{r|ll}\n",
       " data.region & percent\\\\\n",
       "\\hline\n",
       "\t Midwest    & 0.27777778\\\\\n",
       "\t Northeast  & 0.30769231\\\\\n",
       "\t South      & 0.27777778\\\\\n",
       "\t West       & 0.03846154\\\\\n",
       "\\end{tabular}\n"
      ],
      "text/markdown": [
       "\n",
       "| data.region | percent |\n",
       "|---|---|\n",
       "| Midwest    | 0.27777778 |\n",
       "| Northeast  | 0.30769231 |\n",
       "| South      | 0.27777778 |\n",
       "| West       | 0.03846154 |\n",
       "\n"
      ],
      "text/plain": [
       "  data.region percent   \n",
       "1 Midwest     0.27777778\n",
       "2 Northeast   0.30769231\n",
       "3 South       0.27777778\n",
       "4 West        0.03846154"
      ]
     },
     "metadata": {},
     "output_type": "display_data"
    }
   ],
   "source": [
    "comp_df <- data.frame(data$region,glm5.pred)\n",
    "comp_df <- comp_df %>%\n",
    "    group_by(data.region) %>%\n",
    "    summarise(percent = mean(glm5.pred,na.rm=TRUE))\n",
    "comp_df"
   ]
  },
  {
   "cell_type": "code",
   "execution_count": 158,
   "metadata": {},
   "outputs": [
    {
     "data": {
      "text/html": [
       "<table>\n",
       "<thead><tr><th scope=col>region</th><th scope=col>blacks</th><th scope=col>total</th><th scope=col>percent</th></tr></thead>\n",
       "<tbody>\n",
       "\t<tr><td>Midwest   </td><td> 61744210 </td><td> 543890718</td><td>0.11352319</td></tr>\n",
       "\t<tr><td>Northeast </td><td> 61247420 </td><td> 482931171</td><td>0.12682433</td></tr>\n",
       "\t<tr><td>South     </td><td>394240731 </td><td>2527551225</td><td>0.15597735</td></tr>\n",
       "\t<tr><td>West      </td><td>173395715 </td><td>3230437975</td><td>0.05367561</td></tr>\n",
       "</tbody>\n",
       "</table>\n"
      ],
      "text/latex": [
       "\\begin{tabular}{r|llll}\n",
       " region & blacks & total & percent\\\\\n",
       "\\hline\n",
       "\t Midwest    &  61744210  &  543890718 & 0.11352319\\\\\n",
       "\t Northeast  &  61247420  &  482931171 & 0.12682433\\\\\n",
       "\t South      & 394240731  & 2527551225 & 0.15597735\\\\\n",
       "\t West       & 173395715  & 3230437975 & 0.05367561\\\\\n",
       "\\end{tabular}\n"
      ],
      "text/markdown": [
       "\n",
       "| region | blacks | total | percent |\n",
       "|---|---|---|---|\n",
       "| Midwest    |  61744210  |  543890718 | 0.11352319 |\n",
       "| Northeast  |  61247420  |  482931171 | 0.12682433 |\n",
       "| South      | 394240731  | 2527551225 | 0.15597735 |\n",
       "| West       | 173395715  | 3230437975 | 0.05367561 |\n",
       "\n"
      ],
      "text/plain": [
       "  region    blacks    total      percent   \n",
       "1 Midwest    61744210  543890718 0.11352319\n",
       "2 Northeast  61247420  482931171 0.12682433\n",
       "3 South     394240731 2527551225 0.15597735\n",
       "4 West      173395715 3230437975 0.05367561"
      ]
     },
     "metadata": {},
     "output_type": "display_data"
    }
   ],
   "source": [
    "o_data <- tbl_df(o_data <- o_data)\n",
    "o_data <- o_data %>% \n",
    "    select(-c(County, State)) %>%\n",
    "    group_by(region) %>%\n",
    "    summarise(blacks = sum(as.numeric(black_pop),na.rm=TRUE),\n",
    "              total = sum(as.numeric(state_pop),na.rm=TRUE))\n",
    "o_data$percent <- o_data$blacks/o_data$total\n",
    "head(o_data)"
   ]
  },
  {
   "cell_type": "code",
   "execution_count": 162,
   "metadata": {},
   "outputs": [
    {
     "data": {
      "text/html": [
       "<table>\n",
       "<thead><tr><th scope=col>o_data.region</th><th scope=col>comp_df.percent</th><th scope=col>o_data.percent</th></tr></thead>\n",
       "<tbody>\n",
       "\t<tr><td>Midwest   </td><td>0.27777778</td><td>0.11352319</td></tr>\n",
       "\t<tr><td>Northeast </td><td>0.30769231</td><td>0.12682433</td></tr>\n",
       "\t<tr><td>South     </td><td>0.27777778</td><td>0.15597735</td></tr>\n",
       "\t<tr><td>West      </td><td>0.03846154</td><td>0.05367561</td></tr>\n",
       "</tbody>\n",
       "</table>\n"
      ],
      "text/latex": [
       "\\begin{tabular}{r|lll}\n",
       " o\\_data.region & comp\\_df.percent & o\\_data.percent\\\\\n",
       "\\hline\n",
       "\t Midwest    & 0.27777778 & 0.11352319\\\\\n",
       "\t Northeast  & 0.30769231 & 0.12682433\\\\\n",
       "\t South      & 0.27777778 & 0.15597735\\\\\n",
       "\t West       & 0.03846154 & 0.05367561\\\\\n",
       "\\end{tabular}\n"
      ],
      "text/markdown": [
       "\n",
       "| o_data.region | comp_df.percent | o_data.percent |\n",
       "|---|---|---|\n",
       "| Midwest    | 0.27777778 | 0.11352319 |\n",
       "| Northeast  | 0.30769231 | 0.12682433 |\n",
       "| South      | 0.27777778 | 0.15597735 |\n",
       "| West       | 0.03846154 | 0.05367561 |\n",
       "\n"
      ],
      "text/plain": [
       "  o_data.region comp_df.percent o_data.percent\n",
       "1 Midwest       0.27777778      0.11352319    \n",
       "2 Northeast     0.30769231      0.12682433    \n",
       "3 South         0.27777778      0.15597735    \n",
       "4 West          0.03846154      0.05367561    "
      ]
     },
     "metadata": {},
     "output_type": "display_data"
    }
   ],
   "source": [
    "final_df <- data.frame(o_data$region, comp_df$percent, o_data$percent)\n",
    "final_df"
   ]
  }
 ],
 "metadata": {
  "kernelspec": {
   "display_name": "R",
   "language": "R",
   "name": "ir"
  },
  "language_info": {
   "codemirror_mode": "r",
   "file_extension": ".r",
   "mimetype": "text/x-r-source",
   "name": "R",
   "pygments_lexer": "r",
   "version": "3.5.0"
  }
 },
 "nbformat": 4,
 "nbformat_minor": 2
}
